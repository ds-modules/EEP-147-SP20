{
 "cells": [
  {
   "cell_type": "markdown",
   "metadata": {},
   "source": [
    "## ENVECON 147\n",
    "\n",
    "* The following exercise should give you practice with the tools for manipulating a table in Python that are needed to complete Question 1 in Homework 1."
   ]
  },
  {
   "cell_type": "code",
   "execution_count": 3,
   "metadata": {},
   "outputs": [],
   "source": [
    "from datascience import *\n",
    "import matplotlib.pyplot as plt\n",
    "%matplotlib inline\n",
    "import numpy as np\n",
    "import pandas as pd\n",
    "plt.style.use('seaborn-muted')"
   ]
  },
  {
   "cell_type": "markdown",
   "metadata": {
    "tags": [
     "gradable"
    ]
   },
   "source": [
    "### Exercise 1"
   ]
  },
  {
   "cell_type": "markdown",
   "metadata": {},
   "source": [
    "First, let's load the table."
   ]
  },
  {
   "cell_type": "code",
   "execution_count": 4,
   "metadata": {},
   "outputs": [
    {
     "data": {
      "text/html": [
       "<table border=\"1\" class=\"dataframe\">\n",
       "    <thead>\n",
       "        <tr>\n",
       "            <th>Index</th> <th>Column A</th>\n",
       "        </tr>\n",
       "    </thead>\n",
       "    <tbody>\n",
       "        <tr>\n",
       "            <td>1    </td> <td>10      </td>\n",
       "        </tr>\n",
       "        <tr>\n",
       "            <td>2    </td> <td>20      </td>\n",
       "        </tr>\n",
       "        <tr>\n",
       "            <td>3    </td> <td>40      </td>\n",
       "        </tr>\n",
       "        <tr>\n",
       "            <td>4    </td> <td>70      </td>\n",
       "        </tr>\n",
       "        <tr>\n",
       "            <td>5    </td> <td>100     </td>\n",
       "        </tr>\n",
       "    </tbody>\n",
       "</table>"
      ],
      "text/plain": [
       "Index | Column A\n",
       "1     | 10\n",
       "2     | 20\n",
       "3     | 40\n",
       "4     | 70\n",
       "5     | 100"
      ]
     },
     "execution_count": 4,
     "metadata": {},
     "output_type": "execute_result"
    }
   ],
   "source": [
    "mytable = Table.read_table('ex01.csv')\n",
    "mytable"
   ]
  },
  {
   "cell_type": "markdown",
   "metadata": {},
   "source": [
    "Next, let's add a constant column of 10 to the table named Column B"
   ]
  },
  {
   "cell_type": "code",
   "execution_count": 5,
   "metadata": {},
   "outputs": [
    {
     "data": {
      "text/html": [
       "<table border=\"1\" class=\"dataframe\">\n",
       "    <thead>\n",
       "        <tr>\n",
       "            <th>Index</th> <th>Column A</th> <th>Column B</th>\n",
       "        </tr>\n",
       "    </thead>\n",
       "    <tbody>\n",
       "        <tr>\n",
       "            <td>1    </td> <td>10      </td> <td>10      </td>\n",
       "        </tr>\n",
       "        <tr>\n",
       "            <td>2    </td> <td>20      </td> <td>10      </td>\n",
       "        </tr>\n",
       "        <tr>\n",
       "            <td>3    </td> <td>40      </td> <td>10      </td>\n",
       "        </tr>\n",
       "        <tr>\n",
       "            <td>4    </td> <td>70      </td> <td>10      </td>\n",
       "        </tr>\n",
       "        <tr>\n",
       "            <td>5    </td> <td>100     </td> <td>10      </td>\n",
       "        </tr>\n",
       "    </tbody>\n",
       "</table>"
      ],
      "text/plain": [
       "Index | Column A | Column B\n",
       "1     | 10       | 10\n",
       "2     | 20       | 10\n",
       "3     | 40       | 10\n",
       "4     | 70       | 10\n",
       "5     | 100      | 10"
      ]
     },
     "execution_count": 5,
     "metadata": {},
     "output_type": "execute_result"
    }
   ],
   "source": [
    "mytable['Column B'] = 10\n",
    "mytable"
   ]
  },
  {
   "cell_type": "markdown",
   "metadata": {},
   "source": [
    "Next, let's add Column A and Column B together to create Column C"
   ]
  },
  {
   "cell_type": "code",
   "execution_count": 6,
   "metadata": {},
   "outputs": [
    {
     "data": {
      "text/html": [
       "<table border=\"1\" class=\"dataframe\">\n",
       "    <thead>\n",
       "        <tr>\n",
       "            <th>Index</th> <th>Column A</th> <th>Column B</th> <th>Column C</th>\n",
       "        </tr>\n",
       "    </thead>\n",
       "    <tbody>\n",
       "        <tr>\n",
       "            <td>1    </td> <td>10      </td> <td>10      </td> <td>20      </td>\n",
       "        </tr>\n",
       "        <tr>\n",
       "            <td>2    </td> <td>20      </td> <td>10      </td> <td>30      </td>\n",
       "        </tr>\n",
       "        <tr>\n",
       "            <td>3    </td> <td>40      </td> <td>10      </td> <td>50      </td>\n",
       "        </tr>\n",
       "        <tr>\n",
       "            <td>4    </td> <td>70      </td> <td>10      </td> <td>80      </td>\n",
       "        </tr>\n",
       "        <tr>\n",
       "            <td>5    </td> <td>100     </td> <td>10      </td> <td>110     </td>\n",
       "        </tr>\n",
       "    </tbody>\n",
       "</table>"
      ],
      "text/plain": [
       "Index | Column A | Column B | Column C\n",
       "1     | 10       | 10       | 20\n",
       "2     | 20       | 10       | 30\n",
       "3     | 40       | 10       | 50\n",
       "4     | 70       | 10       | 80\n",
       "5     | 100      | 10       | 110"
      ]
     },
     "execution_count": 6,
     "metadata": {},
     "output_type": "execute_result"
    }
   ],
   "source": [
    "mytable['Column C'] = mytable['Column A'] + mytable['Column B']\n",
    "mytable"
   ]
  },
  {
   "cell_type": "markdown",
   "metadata": {},
   "source": [
    "We can also multiply or divide two columns.  Let's try multiplying Column A by the Index column and call it Column D."
   ]
  },
  {
   "cell_type": "code",
   "execution_count": 7,
   "metadata": {},
   "outputs": [
    {
     "data": {
      "text/html": [
       "<table border=\"1\" class=\"dataframe\">\n",
       "    <thead>\n",
       "        <tr>\n",
       "            <th>Index</th> <th>Column A</th> <th>Column B</th> <th>Column C</th> <th>Column D</th>\n",
       "        </tr>\n",
       "    </thead>\n",
       "    <tbody>\n",
       "        <tr>\n",
       "            <td>1    </td> <td>10      </td> <td>10      </td> <td>20      </td> <td>10      </td>\n",
       "        </tr>\n",
       "        <tr>\n",
       "            <td>2    </td> <td>20      </td> <td>10      </td> <td>30      </td> <td>40      </td>\n",
       "        </tr>\n",
       "        <tr>\n",
       "            <td>3    </td> <td>40      </td> <td>10      </td> <td>50      </td> <td>120     </td>\n",
       "        </tr>\n",
       "        <tr>\n",
       "            <td>4    </td> <td>70      </td> <td>10      </td> <td>80      </td> <td>280     </td>\n",
       "        </tr>\n",
       "        <tr>\n",
       "            <td>5    </td> <td>100     </td> <td>10      </td> <td>110     </td> <td>500     </td>\n",
       "        </tr>\n",
       "    </tbody>\n",
       "</table>"
      ],
      "text/plain": [
       "Index | Column A | Column B | Column C | Column D\n",
       "1     | 10       | 10       | 20       | 10\n",
       "2     | 20       | 10       | 30       | 40\n",
       "3     | 40       | 10       | 50       | 120\n",
       "4     | 70       | 10       | 80       | 280\n",
       "5     | 100      | 10       | 110      | 500"
      ]
     },
     "execution_count": 7,
     "metadata": {},
     "output_type": "execute_result"
    }
   ],
   "source": [
    "mytable['Column D'] = mytable['Column A'] * mytable['Index']\n",
    "mytable"
   ]
  },
  {
   "cell_type": "markdown",
   "metadata": {},
   "source": [
    "Suppose we want to find the difference between each row in a given column.  For example, suppose we want to know the difference between Rows 2 and 1, Rows 3 and 2, Rows 4 and 3, etc. in Column A.  We can use the np.diff function from the Numpy package to find this."
   ]
  },
  {
   "cell_type": "code",
   "execution_count": 8,
   "metadata": {},
   "outputs": [
    {
     "data": {
      "text/plain": [
       "array([10, 20, 30, 30])"
      ]
     },
     "execution_count": 8,
     "metadata": {},
     "output_type": "execute_result"
    }
   ],
   "source": [
    "np.diff(mytable['Column A'])"
   ]
  },
  {
   "cell_type": "markdown",
   "metadata": {},
   "source": [
    "Note, however, that the array of differences has a length 4, whereas the table has 5 rows.  If we try to define a new column using this vector, we will get an error.  To get arround this, we will need to manually insert an additional number into our array of differences.  Let's try adding a 0 to the beginning of the array and then inserting this into the table as Column E.  We can do this using the np.append function from the Numpy package."
   ]
  },
  {
   "cell_type": "code",
   "execution_count": 9,
   "metadata": {},
   "outputs": [
    {
     "data": {
      "text/html": [
       "<table border=\"1\" class=\"dataframe\">\n",
       "    <thead>\n",
       "        <tr>\n",
       "            <th>Index</th> <th>Column A</th> <th>Column B</th> <th>Column C</th> <th>Column D</th> <th>Column E</th>\n",
       "        </tr>\n",
       "    </thead>\n",
       "    <tbody>\n",
       "        <tr>\n",
       "            <td>1    </td> <td>10      </td> <td>10      </td> <td>20      </td> <td>10      </td> <td>0       </td>\n",
       "        </tr>\n",
       "        <tr>\n",
       "            <td>2    </td> <td>20      </td> <td>10      </td> <td>30      </td> <td>40      </td> <td>10      </td>\n",
       "        </tr>\n",
       "        <tr>\n",
       "            <td>3    </td> <td>40      </td> <td>10      </td> <td>50      </td> <td>120     </td> <td>20      </td>\n",
       "        </tr>\n",
       "        <tr>\n",
       "            <td>4    </td> <td>70      </td> <td>10      </td> <td>80      </td> <td>280     </td> <td>30      </td>\n",
       "        </tr>\n",
       "        <tr>\n",
       "            <td>5    </td> <td>100     </td> <td>10      </td> <td>110     </td> <td>500     </td> <td>30      </td>\n",
       "        </tr>\n",
       "    </tbody>\n",
       "</table>"
      ],
      "text/plain": [
       "Index | Column A | Column B | Column C | Column D | Column E\n",
       "1     | 10       | 10       | 20       | 10       | 0\n",
       "2     | 20       | 10       | 30       | 40       | 10\n",
       "3     | 40       | 10       | 50       | 120      | 20\n",
       "4     | 70       | 10       | 80       | 280      | 30\n",
       "5     | 100      | 10       | 110      | 500      | 30"
      ]
     },
     "execution_count": 9,
     "metadata": {},
     "output_type": "execute_result"
    }
   ],
   "source": [
    "mytable['Column E'] = np.append(0, np.diff(mytable['Column A']))\n",
    "mytable"
   ]
  },
  {
   "cell_type": "markdown",
   "metadata": {},
   "source": [
    "Note that in the homework, you will need to do something similar to the above.  Think carefully about which value you want to add to your array of differences and whether this value should be added at the beginning or the end of the array.  While we really would like for you to understand Python, we do accept that some students may struggle with this.  Please come see us in office hours or post to the course Piazza page, found at the link piazza.com/berkeley/spring2020/eep147, if you need help.  If you are really struggling, you can solve the problem elsewhere and define a new column manually, as follows, making sure that the length of the vector you create is equal to the number of rows in the table."
   ]
  },
  {
   "cell_type": "code",
   "execution_count": 10,
   "metadata": {},
   "outputs": [
    {
     "data": {
      "text/html": [
       "<table border=\"1\" class=\"dataframe\">\n",
       "    <thead>\n",
       "        <tr>\n",
       "            <th>Index</th> <th>Column A</th> <th>Column B</th> <th>Column C</th> <th>Column D</th> <th>Column E</th> <th>Column F</th>\n",
       "        </tr>\n",
       "    </thead>\n",
       "    <tbody>\n",
       "        <tr>\n",
       "            <td>1    </td> <td>10      </td> <td>10      </td> <td>20      </td> <td>10      </td> <td>0       </td> <td>3       </td>\n",
       "        </tr>\n",
       "        <tr>\n",
       "            <td>2    </td> <td>20      </td> <td>10      </td> <td>30      </td> <td>40      </td> <td>10      </td> <td>4       </td>\n",
       "        </tr>\n",
       "        <tr>\n",
       "            <td>3    </td> <td>40      </td> <td>10      </td> <td>50      </td> <td>120     </td> <td>20      </td> <td>5       </td>\n",
       "        </tr>\n",
       "        <tr>\n",
       "            <td>4    </td> <td>70      </td> <td>10      </td> <td>80      </td> <td>280     </td> <td>30      </td> <td>6       </td>\n",
       "        </tr>\n",
       "        <tr>\n",
       "            <td>5    </td> <td>100     </td> <td>10      </td> <td>110     </td> <td>500     </td> <td>30      </td> <td>7       </td>\n",
       "        </tr>\n",
       "    </tbody>\n",
       "</table>"
      ],
      "text/plain": [
       "Index | Column A | Column B | Column C | Column D | Column E | Column F\n",
       "1     | 10       | 10       | 20       | 10       | 0        | 3\n",
       "2     | 20       | 10       | 30       | 40       | 10       | 4\n",
       "3     | 40       | 10       | 50       | 120      | 20       | 5\n",
       "4     | 70       | 10       | 80       | 280      | 30       | 6\n",
       "5     | 100      | 10       | 110      | 500      | 30       | 7"
      ]
     },
     "execution_count": 10,
     "metadata": {},
     "output_type": "execute_result"
    }
   ],
   "source": [
    "mytable['Column F'] = [3, 4, 5, 6, 7]\n",
    "mytable"
   ]
  },
  {
   "cell_type": "markdown",
   "metadata": {},
   "source": [
    "This is it for the first exercise!  Hopefully it helps you get through the first question in Homework 1."
   ]
  },
  {
   "cell_type": "markdown",
   "metadata": {},
   "source": [
    " "
   ]
  }
 ],
 "metadata": {
  "kernelspec": {
   "display_name": "Python 3",
   "language": "python",
   "name": "python3"
  },
  "language_info": {
   "codemirror_mode": {
    "name": "ipython",
    "version": 3
   },
   "file_extension": ".py",
   "mimetype": "text/x-python",
   "name": "python",
   "nbconvert_exporter": "python",
   "pygments_lexer": "ipython3",
   "version": "3.6.9"
  },
  "varInspector": {
   "cols": {
    "lenName": 16,
    "lenType": 16,
    "lenVar": 40
   },
   "kernels_config": {
    "python": {
     "delete_cmd_postfix": "",
     "delete_cmd_prefix": "del ",
     "library": "var_list.py",
     "varRefreshCmd": "print(var_dic_list())"
    },
    "r": {
     "delete_cmd_postfix": ") ",
     "delete_cmd_prefix": "rm(",
     "library": "var_list.r",
     "varRefreshCmd": "cat(var_dic_list()) "
    }
   },
   "types_to_exclude": [
    "module",
    "function",
    "builtin_function_or_method",
    "instance",
    "_Feature"
   ],
   "window_display": false
  }
 },
 "nbformat": 4,
 "nbformat_minor": 2
}
