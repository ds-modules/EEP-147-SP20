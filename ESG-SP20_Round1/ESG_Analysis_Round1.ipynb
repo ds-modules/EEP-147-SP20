{
 "cells": [
  {
   "cell_type": "markdown",
   "metadata": {},
   "source": [
    " # <font color = #254117>[EEP 147]: ESG Analysis Round 1</font>"
   ]
  },
  {
   "cell_type": "markdown",
   "metadata": {},
   "source": [
    "<div style=\"width:image width px; font-size:80%; text-align:center;\"><img src=\"big_creek.jpg\" alt=\"alternate text\" width=\"500\" height=\"height\" style=\"padding-bottom:0.5em;\" />Big Creek Hydroelectric Project - Southern California Edison</div>"
   ]
  },
  {
   "cell_type": "markdown",
   "metadata": {},
   "source": [
    "This notebook can be utilized for analysis of the Electricity Strategy Game. This notebook builds on the Round 0 notebook by allowing carbon prices to be adjusted in more of the function, including separately for each of Rounds 4, 5, and 6 in the NPV of expected profits function."
   ]
  },
  {
   "cell_type": "markdown",
   "metadata": {},
   "source": [
    "First on our agenda is to import **<font color = ##008700>dependencies</font>** -- packages in Python that add to the basic functions in Python -- same as before."
   ]
  },
  {
   "cell_type": "code",
   "execution_count": null,
   "metadata": {},
   "outputs": [],
   "source": [
    "from datascience import *\n",
    "import matplotlib.pyplot as plt\n",
    "import matplotlib.patches as mpatches\n",
    "%matplotlib inline\n",
    "import numpy as np\n",
    "import pandas as pd\n",
    "from ipywidgets import interact, interactive, Dropdown, IntSlider\n",
    "import ipywidgets as widgets\n",
    "from functools import partial\n",
    "plt.style.use('fivethirtyeight')\n",
    "plt.rcParams[\"figure.figsize\"] = [10,6]"
   ]
  },
  {
   "cell_type": "markdown",
   "metadata": {},
   "source": [
    "Next, let's select your portfolio. In the cell below, assign **section** to the section number that corresponds to your own according to the following table.\n",
    "\n",
    "| Number | Section Time  |\n",
    "|---------|---------------|\n",
    "| 1 | Wednesday 8am |\n",
    "| 2 | Wednesday 9am |\n",
    "| 3 | Friday 2pm |\n",
    "| 4 | Friday 3pm |\n",
    "\n",
    "Assign **YOUR_PORTFOLIO** to the name of your portfolio from the following choices:\n",
    "\n",
    "**'Bay Views',\n",
    " 'Beachfront',\n",
    " 'Big Coal',\n",
    " 'Big Gas',\n",
    " 'East Bay',\n",
    " 'Fossil Light',\n",
    " 'Old Timers'**\n",
    " \n",
    "The variable **periods_completed** should be set to the most recently concluded round.\n",
    "\n",
    "The variable **period** should be set to the round that you want to analyze.\n",
    "\n",
    "The variable **pab_periods** should contain each of the periods for which there was or will be a pay-as-bid auction.  This shouldn't change."
   ]
  },
  {
   "cell_type": "code",
   "execution_count": null,
   "metadata": {},
   "outputs": [],
   "source": [
    "section = 1\n",
    "YOUR_PORTFOLIO = \"Big Coal\"\n",
    "periods_completed = 0\n",
    "period = 0\n",
    "pab_periods = [1]"
   ]
  },
  {
   "cell_type": "markdown",
   "metadata": {},
   "source": [
    "Next we import the demand forecasts."
   ]
  },
  {
   "cell_type": "code",
   "execution_count": null,
   "metadata": {},
   "outputs": [],
   "source": [
    "demand_table = Table.read_table('demand.csv')"
   ]
  },
  {
   "cell_type": "markdown",
   "metadata": {},
   "source": [
    "Next we import our Bids and Porfolios tables, with all bids set to MC."
   ]
  },
  {
   "cell_type": "code",
   "execution_count": null,
   "metadata": {},
   "outputs": [],
   "source": [
    "bids_mc = Table.read_table('MC_bids.csv').sort('PORTFOLIO')\n",
    "ESG = Table.read_table('ESGPorfolios.csv')"
   ]
  },
  {
   "cell_type": "markdown",
   "metadata": {},
   "source": [
    "In the following cell we will join the tables based on the column **Plant_ID**."
   ]
  },
  {
   "cell_type": "code",
   "execution_count": null,
   "metadata": {
    "scrolled": true
   },
   "outputs": [],
   "source": [
    "joined_table_all = bids_mc.join(\"PLANT_ID\", ESG, \"Plant_ID\").sort(\"PLANT_ID\")"
   ]
  },
  {
   "cell_type": "markdown",
   "metadata": {},
   "source": [
    "Now, let's create a function to determine the price given the bids and demand."
   ]
  },
  {
   "cell_type": "code",
   "execution_count": null,
   "metadata": {},
   "outputs": [],
   "source": [
    "def price_calc(input_table, demand, hour, period):\n",
    "    #hour and period determine which bids are taken from joined_table\n",
    "    joined_table = input_table.copy()\n",
    "    sorted_table = joined_table.where(\"PERIOD\", period).sort(\"PRICE\" + str(hour), descending = False)\n",
    "    price = 0\n",
    "    sum_cap = 0\n",
    "    for i in range(0,len(sorted_table['Capacity_MW'])):\n",
    "        if sum_cap + sorted_table['Capacity_MW'][i] > demand:\n",
    "            price = sorted_table['PRICE' + str(hour)][i]\n",
    "            break\n",
    "        else:\n",
    "            sum_cap += sorted_table['Capacity_MW'][i]\n",
    "            price = sorted_table['PRICE' + str(hour)][i]\n",
    "    return price"
   ]
  },
  {
   "cell_type": "markdown",
   "metadata": {},
   "source": [
    "Now, let's create a function to plot the market in a given hour and period."
   ]
  },
  {
   "cell_type": "code",
   "execution_count": null,
   "metadata": {},
   "outputs": [],
   "source": [
    "def find_x_pos(widths):\n",
    "    cumulative_widths = [0]\n",
    "    cumulative_widths.extend(np.cumsum(widths))\n",
    "    half_widths = [i/2 for i in widths]\n",
    "    x_pos = []\n",
    "    for i in range(0, len(half_widths)):\n",
    "        x_pos.append(half_widths[i] + cumulative_widths[i])\n",
    "    return x_pos\n",
    "\n",
    "def price_line_plot(price):\n",
    "    plt.axhline(y=price, color='r', linewidth = 2)\n",
    "    print(\"Price: \" + str(price))\n",
    "    \n",
    "def demand_plot(demand):\n",
    "    plt.axvline(x=demand, color='r', linewidth = 2)\n",
    "    print(\"Demand: \" + str(demand))\n",
    "    \n",
    "def adjust_bids_by_cp(input_table, hour, period, carbon_price):\n",
    "    joined_table = input_table.copy()\n",
    "    joined_table[\"Total_Var_Cost_USDperMWH\"] += carbon_price * joined_table[\"Carbon_tonsperMWH\"]\n",
    "    joined_table[\"PRICE\" + str(hour)] += carbon_price * joined_table[\"Carbon_tonsperMWH\"]\n",
    "    return(joined_table)\n",
    "    \n",
    "def user_defined_bids(input_table, hour, period, my_portfolio, def_my_bids, def_others_bids):\n",
    "    joined_table = input_table.copy()\n",
    "    joined_df = joined_table.to_df()\n",
    "    if def_my_bids:\n",
    "        joined_df.loc[(joined_df[\"Group\"] == my_portfolio) & \n",
    "                      (joined_df[\"PERIOD\"] == period), \n",
    "                      \"PRICE\" + str(hour)] =  list(globals()[\"bids_\" + my_portfolio.replace(\" \", \"\").lower()].values())\n",
    "    if def_others_bids:\n",
    "        for group in set(joined_table['Group']):\n",
    "            if group != my_portfolio:\n",
    "                joined_df.loc[(joined_df[\"Group\"] == group) & \n",
    "                              (joined_df[\"PERIOD\"] == period), \n",
    "                              \"PRICE\" + str(hour)] =  list(globals()[\"bids_\" + group.replace(\" \", \"\").lower()].values())\n",
    "    joined_table = Table.from_df(joined_df)\n",
    "    return(joined_table)\n",
    "\n",
    "def market_plot(input_table, hour, period, carbon_price, my_portfolio, def_my_bids, def_others_bids):\n",
    "    demand = demand_table.where(\"round\", period).where(\"hour\", hour)[\"load\"].item()\n",
    "    joined_table = adjust_bids_by_cp(input_table, hour, period, carbon_price)\n",
    "    joined_table = user_defined_bids(joined_table, hour, period, my_portfolio, def_my_bids, def_others_bids)\n",
    "    \n",
    "    sorted_joined_table = joined_table.where(\"PERIOD\", period).sort(\"PRICE\" + str(hour), descending = False)\n",
    "    width = sorted_joined_table.column(\"Capacity_MW\")\n",
    "    height = sorted_joined_table.column('PRICE' + str(hour))\n",
    "    x_vals = find_x_pos(width)\n",
    "    energy_colors_dict = {}\n",
    "    count = 0\n",
    "    colors = ['#EC5F67', '#F29056', '#F9C863', '#99C794', '#5FB3B3', '#6699CC', '#C594C5']\n",
    "    for i in set(joined_table['Group']):\n",
    "        energy_colors_dict[i] = colors[count]\n",
    "        count += 1\n",
    "    colors_mapped = list(pd.Series(sorted_joined_table['Group']).map(energy_colors_dict))\n",
    "    sorted_joined_table = sorted_joined_table.with_column('Color', colors_mapped)\n",
    "    group_colors = sorted_joined_table.group(\"Group\", lambda x: x).select(\"Group\", \"Color\")\n",
    "    group_colors[\"Color\"] = group_colors.apply(lambda x: x[0], \"Color\")\n",
    "    price = price_calc(sorted_joined_table, demand, hour, period)\n",
    "    # Make the plot\n",
    "    plt.figure(figsize=(9,6))\n",
    "    plt.bar(x_vals, height, width=width, color=sorted_joined_table['Color'], edgecolor = \"black\")\n",
    "    patches = []\n",
    "    for row in group_colors.rows:\n",
    "        patches += [mpatches.Patch(color=row.item(\"Color\"), label=row.item(\"Group\"))]\n",
    "    plt.legend(handles=patches, bbox_to_anchor=(1.1,1))\n",
    "    plt.title('Energy Market')\n",
    "    plt.xlabel('Capacity_MW')\n",
    "    plt.ylabel('Price')\n",
    "    price_line_plot(price)\n",
    "    demand_plot(demand)"
   ]
  },
  {
   "cell_type": "markdown",
   "metadata": {},
   "source": [
    "In the next cell, we can define the bids."
   ]
  },
  {
   "cell_type": "code",
   "execution_count": null,
   "metadata": {},
   "outputs": [],
   "source": [
    "bids_bigcoal = {'fourcorners' : 36.5, 'alamitos7' : 73.72, 'huntingtonbeach1_2' : 40.5, 'huntingtonbeach5' : 66.5, \n",
    "                         'redondo5_6' : 41.94, 'redondo7_8' : 41.94}\n",
    "\n",
    "bids_biggas = {'elsegundo1_2' : 44.83, 'elsegundo3_4' : 41.22, 'longbeach' : 52.5, 'northisland' : 65.5, \n",
    "               'encina' : 41.67, 'kearny' : 90.06, 'southbay' : 43.83}\n",
    "\n",
    "bids_bayviews = {'morrobay1_2' : 38.78, 'morrobay3_4' : 36.61, 'mosslanding6' : 32.56, 'mosslanding7' : 32.56, \n",
    "                 'oakland' : 61.17}\n",
    "\n",
    "bids_beachfront = {'coolwater' : 42.39, 'etiwanda1_4' : 42.67, 'etiwanda5' : 62.89, 'ellwood' : 75.61, 'mandalay1_2' : 39.06,\n",
    "                   'mandalay3' : 52.06, 'ormondbeach1' : 38.06, 'ormondbeach2' : 38.06}\n",
    "\n",
    "bids_eastbay = {'pittsburgh1_4' : 40.94, 'pittsburgh5_6' : 36.61, 'pittsburgh7' : 59.72, 'contracosta4_5' : 58.28, \n",
    "                         'contracosta6_7' : 39.5, 'potrerohill' : 69.83}\n",
    "\n",
    "bids_oldtimers = {'bigcreek' : 0, 'mohave1' : 34.5, 'mohave2' : 34.5, 'highgrove' : 49.61, 'sanbernadino' : 53.94}\n",
    "\n",
    "bids_fossillight = {'humboldt' : 47.44, 'helms' : 0.5, 'hunterspoint1_2' : 49.17, 'hunterspoint4' : 75.89, \n",
    "                    'diablocanyon1' : 11.5}"
   ]
  },
  {
   "cell_type": "markdown",
   "metadata": {},
   "source": [
    "The next cell plots the market."
   ]
  },
  {
   "cell_type": "code",
   "execution_count": null,
   "metadata": {
    "scrolled": false
   },
   "outputs": [],
   "source": [
    "interact(lambda hour, period, my_portfolio, def_my_bids, def_others_bids:\n",
    "         market_plot(input_table = joined_table_all,\n",
    "                     hour = hour,\n",
    "                     period = period,\n",
    "                     carbon_price = 0,\n",
    "                     my_portfolio = my_portfolio,\n",
    "                     def_my_bids = def_my_bids,\n",
    "                     def_others_bids = def_others_bids),\n",
    "         hour = Dropdown(options=list(range(1,5))), \n",
    "         period = Dropdown(options=list(range(1,7))),\n",
    "         my_portfolio = Dropdown(options=np.unique(joined_table_all[\"Group\"])),\n",
    "         def_my_bids = Dropdown(options=[False, True]),\n",
    "         def_others_bids = Dropdown(options=[False, True]))"
   ]
  },
  {
   "cell_type": "markdown",
   "metadata": {},
   "source": [
    "Let's zoom in on individual portolios to see which of their plants are operating.  A plant which bids a price below the market-clearing price will operate.  First, let's define a plotting function."
   ]
  },
  {
   "cell_type": "code",
   "execution_count": null,
   "metadata": {},
   "outputs": [],
   "source": [
    "def portfolio_plot(input_table, hour, period, carbon_price, my_portfolio, def_my_bids, def_others_bids):\n",
    "    demand = demand_table.where(\"round\", period).where(\"hour\", hour)[\"load\"].item()\n",
    "    joined_table = adjust_bids_by_cp(input_table, hour, period, carbon_price)\n",
    "    joined_table = user_defined_bids(joined_table, hour, period, my_portfolio, def_my_bids, def_others_bids)\n",
    "    \n",
    "    sorted_joined_table = joined_table.where(\"PERIOD\", period).sort(\"PRICE\" + str(hour), descending = False)\n",
    "    your_source = sorted_joined_table.where(\"Group\", my_portfolio)\n",
    "    width_yours = your_source.column(\"Capacity_MW\")\n",
    "    height_yours = your_source.column('PRICE' + str(hour))\n",
    "    height_yours_marginal_cost = your_source.column(\"Total_Var_Cost_USDperMWH\")\n",
    "    new_x_yours = find_x_pos(width_yours)\n",
    "    label_yours = your_source.column(\"PLANT\")\n",
    "    energy_colors_dict = {}\n",
    "    count = 0\n",
    "    colors = ['#EC5F67', '#F29056', '#F9C863', '#99C794', '#5FB3B3', '#6699CC', '#C594C5']\n",
    "    for i in set(joined_table['Group']):\n",
    "        energy_colors_dict[i] = colors[count]\n",
    "        count += 1\n",
    "    colors_mapped = list(pd.Series(sorted_joined_table['Group']).map(energy_colors_dict))\n",
    "    sorted_joined_table = sorted_joined_table.with_column('Color', colors_mapped)\n",
    "    group_colors = sorted_joined_table.group(\"Group\", lambda x: x).select(\"Group\", \"Color\")\n",
    "    group_colors[\"Color\"] = group_colors.apply(lambda x: x[0], \"Color\")\n",
    "    price = price_calc(sorted_joined_table, demand, hour, period)\n",
    "    # Make the plot\n",
    "    plt.figure(figsize=(9,6))\n",
    "    plt.bar(new_x_yours, height_yours, width=width_yours, \n",
    "            color = energy_colors_dict[my_portfolio], edgecolor = \"black\")\n",
    "    plt.title(\"Bids: \" + my_portfolio)\n",
    "    plt.xlabel('Capacity_MW')\n",
    "    plt.ylabel('Price')\n",
    "    for new_x_i, height_i, label_i in zip(new_x_yours, height_yours, label_yours):\n",
    "        plt.text(new_x_i, height_i, label_i, ha='center', va='bottom', fontsize=8)\n",
    "    price_line_plot(price)\n",
    "    plt.show()"
   ]
  },
  {
   "cell_type": "markdown",
   "metadata": {},
   "source": [
    "Below we call our plotting function, allowing for the portfolio to be defined through an interactive dropdown box.  Remember that we are back to looking at the market without setting a carbon price."
   ]
  },
  {
   "cell_type": "code",
   "execution_count": null,
   "metadata": {
    "scrolled": false
   },
   "outputs": [],
   "source": [
    "interact(lambda hour, period, my_portfolio, def_my_bids, def_others_bids:\n",
    "         portfolio_plot(input_table = joined_table_all,\n",
    "                        hour = hour,\n",
    "                        period = period,\n",
    "                        carbon_price = 0,\n",
    "                        my_portfolio = my_portfolio,\n",
    "                        def_my_bids = def_my_bids,\n",
    "                        def_others_bids = def_others_bids),\n",
    "         hour = Dropdown(options=list(range(1,5))), \n",
    "         period = Dropdown(options=list(range(1,7))),\n",
    "         my_portfolio = Dropdown(options=np.unique(joined_table_all[\"Group\"])),\n",
    "         def_my_bids = Dropdown(options=[False, True]),\n",
    "         def_others_bids = Dropdown(options=[False, True]))"
   ]
  },
  {
   "cell_type": "markdown",
   "metadata": {},
   "source": [
    "The following function will allow us to zoom in further on only the operating plants.  Capacity is automatically reduced to supplied capacity for marginal plants."
   ]
  },
  {
   "cell_type": "code",
   "execution_count": null,
   "metadata": {},
   "outputs": [],
   "source": [
    "def marginal_cost_plot(input_table, hour, period, carbon_price, my_portfolio, def_my_bids, def_others_bids):\n",
    "    demand = demand_table.where(\"round\", period).where(\"hour\", hour)[\"load\"].item()\n",
    "    joined_table = adjust_bids_by_cp(input_table, hour, period, carbon_price)\n",
    "    joined_table = user_defined_bids(joined_table, hour, period, my_portfolio, def_my_bids, def_others_bids)\n",
    "    \n",
    "    sorted_joined_table = joined_table.where(\"PERIOD\", period).sort(\"PRICE\" + str(hour), descending = False)\n",
    "    your_source = sorted_joined_table.where(\"Group\", my_portfolio)\n",
    "    price = price_calc(sorted_joined_table, demand, hour, period)\n",
    "    \n",
    "    nonmarg_capacity = sum(sorted_joined_table.where('PRICE' + str(hour), are.below(price))[\"Capacity_MW\"])\n",
    "    marg_capacity = sum(sorted_joined_table.where('PRICE' + str(hour), are.equal_to(price))[\"Capacity_MW\"])\n",
    "    marg_demand = demand - nonmarg_capacity\n",
    "    marg_proportion = marg_demand / marg_capacity\n",
    "\n",
    "    height_yours = your_source.column('PRICE' + str(hour))\n",
    "    marginal_plants = np.where(height_yours == price)[0]\n",
    "    width_yours = your_source.column(\"Capacity_MW\")\n",
    "    width_yours[marginal_plants] = width_yours[marginal_plants] * marg_proportion\n",
    "    new_x_yours = find_x_pos(width_yours)\n",
    "\n",
    "    height_yours_marginal_cost = your_source.column(\"Total_Var_Cost_USDperMWH\")\n",
    "    label_yours = your_source.column(\"PLANT\")\n",
    "    energy_colors_dict = {}\n",
    "    count = 0\n",
    "    colors = ['#EC5F67', '#F29056', '#F9C863', '#99C794', '#5FB3B3', '#6699CC', '#C594C5']\n",
    "    for i in set(joined_table['Group']):\n",
    "        energy_colors_dict[i] = colors[count]\n",
    "        count += 1\n",
    "    colors_mapped = list(pd.Series(sorted_joined_table['Group']).map(energy_colors_dict))\n",
    "    sorted_joined_table = sorted_joined_table.with_column('Color', colors_mapped)\n",
    "    group_colors = sorted_joined_table.group(\"Group\", lambda x: x).select(\"Group\", \"Color\")\n",
    "    group_colors[\"Color\"] = group_colors.apply(lambda x: x[0], \"Color\")\n",
    "    plt.figure(figsize=(9,6))\n",
    "    num_x = len(your_source.where('PRICE' + str(hour), are.below_or_equal_to(price))[1])\n",
    "    plt.bar(new_x_yours[:num_x], height_yours_marginal_cost[:num_x], width=width_yours[:num_x], \n",
    "            color = energy_colors_dict[my_portfolio],\n",
    "            edgecolor = \"black\")\n",
    "    plt.title(\"Marginal Cost: \" + my_portfolio)\n",
    "    plt.xlabel('Capacity_MW')\n",
    "    plt.ylabel('Marginal Cost')\n",
    "    for new_x_i, height_i, label_i in zip(new_x_yours[:num_x], height_yours_marginal_cost[:num_x], label_yours[:num_x]):\n",
    "        plt.text(new_x_i, height_i, label_i, ha='center', va='bottom', fontsize=8)\n",
    "    price_line_plot(price)\n",
    "    plt.show()"
   ]
  },
  {
   "cell_type": "markdown",
   "metadata": {},
   "source": [
    "In the following plot, the empty area in between the price line and the tops of the bars (the marginal cost) is the profit."
   ]
  },
  {
   "cell_type": "code",
   "execution_count": null,
   "metadata": {},
   "outputs": [],
   "source": [
    "interact(lambda hour, period, my_portfolio, def_my_bids, def_others_bids:\n",
    "         marginal_cost_plot(input_table = joined_table_all,\n",
    "                            hour = hour,\n",
    "                            period = period,\n",
    "                            carbon_price = 0,\n",
    "                            my_portfolio = my_portfolio,\n",
    "                            def_my_bids = def_my_bids,\n",
    "                            def_others_bids = def_others_bids),\n",
    "         hour = Dropdown(options=list(range(1,5))), \n",
    "         period = Dropdown(options=list(range(1,7))),\n",
    "         my_portfolio = Dropdown(options=np.unique(joined_table_all[\"Group\"])),\n",
    "         def_my_bids = Dropdown(options=[False, True]),\n",
    "         def_others_bids = Dropdown(options=[False, True]))"
   ]
  },
  {
   "cell_type": "markdown",
   "metadata": {},
   "source": [
    "Now we can finally calculate profit. The function below will find it.  Ignore the profit_pab() function for now (it will be explained more in Round 1)."
   ]
  },
  {
   "cell_type": "code",
   "execution_count": null,
   "metadata": {},
   "outputs": [],
   "source": [
    "def profit(input_table, hour, period, carbon_price, my_portfolio, def_my_bids, def_others_bids):\n",
    "    if period in pab_periods:\n",
    "        return(profit_pab(input_table, hour, period, carbon_price, my_portfolio, def_my_bids, def_others_bids))\n",
    "        \n",
    "    demand = demand_table.where(\"round\", period).where(\"hour\", hour)[\"load\"].item()\n",
    "    joined_table = adjust_bids_by_cp(input_table, hour, period, carbon_price)\n",
    "    joined_table = user_defined_bids(joined_table, hour, period, my_portfolio, def_my_bids, def_others_bids)\n",
    "    \n",
    "    sorted_joined_table = joined_table.where(\"PERIOD\", period).sort(\"PRICE\" + str(hour), descending = False)\n",
    "    price = price_calc(sorted_joined_table, demand, hour, period)\n",
    "    \n",
    "    nonmarg_capacity = sum(sorted_joined_table.where('PRICE' + str(hour), are.below(price))[\"Capacity_MW\"])\n",
    "    marg_capacity = sum(sorted_joined_table.where('PRICE' + str(hour), are.equal_to(price))[\"Capacity_MW\"])\n",
    "    marg_demand = demand - nonmarg_capacity\n",
    "    marg_proportion = marg_demand / marg_capacity\n",
    "    \n",
    "    sorted_table = sorted_joined_table.where(\"Group\", my_portfolio)\n",
    "    capacity_subset = sum(sorted_table.where('PRICE' + str(hour), are.below(price))[\"Capacity_MW\"])\n",
    "    capacity_subset += sum(sorted_table.where('PRICE' + str(hour), are.equal_to(price))[\"Capacity_MW\"] * marg_proportion)\n",
    "    revenue = capacity_subset * price\n",
    "    cost = 0\n",
    "    for i in range(len(sorted_table.where('PRICE' + str(hour), are.below(price))[\"Total_Var_Cost_USDperMWH\"])):\n",
    "        cost += sorted_table.where('PRICE' + str(hour), are.below(price))[\"Total_Var_Cost_USDperMWH\"][i]\\\n",
    "        * sorted_table.where('PRICE' + str(hour), are.below(price))[\"Capacity_MW\"][i]\n",
    "    for i in range(len(sorted_table.where('PRICE' + str(hour), are.equal_to(price))[\"Total_Var_Cost_USDperMWH\"])):\n",
    "        cost += sorted_table.where('PRICE' + str(hour), are.equal_to(price))[\"Total_Var_Cost_USDperMWH\"][i]\\\n",
    "        * (sorted_table.where('PRICE' + str(hour), are.equal_to(price))[\"Capacity_MW\"][i] * marg_proportion)\n",
    "    return revenue - cost\n",
    "\n",
    "def profit_pab(input_table, hour, period, carbon_price, my_portfolio, def_my_bids, def_others_bids):\n",
    "    demand = demand_table.where(\"round\", period).where(\"hour\", hour)[\"load\"].item()\n",
    "    joined_table = adjust_bids_by_cp(input_table, hour, period, carbon_price)\n",
    "    joined_table = user_defined_bids(joined_table, hour, period, my_portfolio, def_my_bids, def_others_bids)\n",
    "    \n",
    "    sorted_joined_table = joined_table.where(\"PERIOD\", period).sort(\"PRICE\" + str(hour), descending = False)\n",
    "    price = price_calc(sorted_joined_table, demand, hour, period)\n",
    "    \n",
    "    nonmarg_capacity = sum(sorted_joined_table.where('PRICE' + str(hour), are.below(price))[\"Capacity_MW\"])\n",
    "    marg_capacity = sum(sorted_joined_table.where('PRICE' + str(hour), are.equal_to(price))[\"Capacity_MW\"])\n",
    "    marg_demand = demand - nonmarg_capacity\n",
    "    marg_proportion = marg_demand / marg_capacity\n",
    "    \n",
    "    sorted_table = sorted_joined_table.where(\"Group\", my_portfolio)\n",
    "    revenue = 0\n",
    "    for i in range(len(sorted_table.where('PRICE' + str(hour), are.below(price))['PRICE' + str(hour)])):\n",
    "        revenue += sorted_table.where('PRICE' + str(hour), are.below(price))['PRICE' + str(hour)][i]\\\n",
    "        * sorted_table.where('PRICE' + str(hour), are.below(price))[\"Capacity_MW\"][i]\n",
    "    for i in range(len(sorted_table.where('PRICE' + str(hour), are.equal_to(price))['PRICE' + str(hour)])):\n",
    "        revenue += sorted_table.where('PRICE' + str(hour), are.equal_to(price))['PRICE' + str(hour)][i]\\\n",
    "        * (sorted_table.where('PRICE' + str(hour), are.equal_to(price))[\"Capacity_MW\"][i] * marg_proportion)\n",
    "    cost = 0\n",
    "    for i in range(len(sorted_table.where('PRICE' + str(hour), are.below(price))[\"Total_Var_Cost_USDperMWH\"])):\n",
    "        cost += sorted_table.where('PRICE' + str(hour), are.below(price))[\"Total_Var_Cost_USDperMWH\"][i]\\\n",
    "        * sorted_table.where('PRICE' + str(hour), are.below(price))[\"Capacity_MW\"][i]\n",
    "    for i in range(len(sorted_table.where('PRICE' + str(hour), are.equal_to(price))[\"Total_Var_Cost_USDperMWH\"])):\n",
    "        cost += sorted_table.where('PRICE' + str(hour), are.equal_to(price))[\"Total_Var_Cost_USDperMWH\"][i]\\\n",
    "        * (sorted_table.where('PRICE' + str(hour), are.equal_to(price))[\"Capacity_MW\"][i] * marg_proportion)\n",
    "    return revenue - cost"
   ]
  },
  {
   "cell_type": "code",
   "execution_count": null,
   "metadata": {},
   "outputs": [],
   "source": [
    "interact(lambda hour, period, my_portfolio, def_my_bids, def_others_bids:\n",
    "         print(\"Profit: $\" + str(round(\n",
    "             profit(input_table = joined_table_all,\n",
    "                    hour = hour,\n",
    "                    period = period,\n",
    "                    carbon_price = 0,\n",
    "                    my_portfolio = my_portfolio,\n",
    "                    def_my_bids = def_my_bids,\n",
    "                    def_others_bids = def_others_bids),\n",
    "             2))),\n",
    "         hour = Dropdown(options=list(range(1,5))), \n",
    "         period = Dropdown(options=list(range(1,7))),\n",
    "         my_portfolio = Dropdown(options=np.unique(joined_table_all[\"Group\"])),\n",
    "         def_my_bids = Dropdown(options=[False, True]),\n",
    "         def_others_bids = Dropdown(options=[False, True]))"
   ]
  },
  {
   "cell_type": "markdown",
   "metadata": {},
   "source": [
    "We can now calculate the amount of emissions in the current hour."
   ]
  },
  {
   "cell_type": "code",
   "execution_count": null,
   "metadata": {},
   "outputs": [],
   "source": [
    "def emissions(input_table, hour, period, carbon_price, my_portfolio, def_my_bids, def_others_bids):\n",
    "    demand = demand_table.where(\"round\", period).where(\"hour\", hour)[\"load\"].item()\n",
    "    joined_table = adjust_bids_by_cp(input_table, hour, period, carbon_price)\n",
    "    joined_table = user_defined_bids(joined_table, hour, period, my_portfolio, def_my_bids, def_others_bids)\n",
    "    \n",
    "    nonmarg_capacity = sum(sorted_joined_table.where('PRICE' + str(hour), are.below(price))[\"Capacity_MW\"])\n",
    "    marg_capacity = sum(sorted_joined_table.where('PRICE' + str(hour), are.equal_to(price))[\"Capacity_MW\"])\n",
    "    marg_demand = demand - nonmarg_capacity\n",
    "    marg_proportion = marg_demand / marg_capacity\n",
    "    \n",
    "    sorted_table = sorted_joined_table.where(\"Group\", my_portfolio)\n",
    "    emissions = 0\n",
    "    for i in range(len(sorted_table.where('PRICE' + str(hour), are.below(price))[\"Total_Var_Cost_USDperMWH\"])):\n",
    "        emissions += sorted_table.where('PRICE' + str(hour), are.below(price))[\"Carbon_tonsperMWH\"][i]\\\n",
    "        * sorted_table.where('PRICE' + str(hour), are.below(price))[\"Capacity_MW\"][i]\n",
    "    for i in range(len(sorted_table.where('PRICE' + str(hour), are.equal_to(price))[\"Total_Var_Cost_USDperMWH\"])):\n",
    "        emissions += sorted_table.where('PRICE' + str(hour), are.equal_to(price))[\"Carbon_tonsperMWH\"][i]\\\n",
    "        * (sorted_table.where('PRICE' + str(hour), are.equal_to(price))[\"Capacity_MW\"][i] * marg_proportion)\n",
    "    return emissions"
   ]
  },
  {
   "cell_type": "code",
   "execution_count": null,
   "metadata": {},
   "outputs": [],
   "source": [
    "interact(lambda hour, period, my_portfolio, def_my_bids, def_others_bids:\n",
    "         print(\"Emissions: \" + str(round(\n",
    "             profit(input_table = joined_table_all,\n",
    "                    hour = hour,\n",
    "                    period = period,\n",
    "                    carbon_price = 0,\n",
    "                    my_portfolio = my_portfolio,\n",
    "                    def_my_bids = def_my_bids,\n",
    "                    def_others_bids = def_others_bids),\n",
    "             2)) + \" Tons CO2\"),\n",
    "         hour = Dropdown(options=list(range(1,5))), \n",
    "         period = Dropdown(options=list(range(1,7))),\n",
    "         my_portfolio = Dropdown(options=np.unique(joined_table_all[\"Group\"])),\n",
    "         def_my_bids = Dropdown(options=[False, True]),\n",
    "         def_others_bids = Dropdown(options=[False, True]))"
   ]
  },
  {
   "cell_type": "markdown",
   "metadata": {},
   "source": [
    "Thanks for help from: Alec Kan, Alma Pineda, Aarish Irfan, Elaine Chien, Octavian Sima, and Eric Van Dusen."
   ]
  }
 ],
 "metadata": {
  "kernelspec": {
   "display_name": "Python 3",
   "language": "python",
   "name": "python3"
  },
  "language_info": {
   "codemirror_mode": {
    "name": "ipython",
    "version": 3
   },
   "file_extension": ".py",
   "mimetype": "text/x-python",
   "name": "python",
   "nbconvert_exporter": "python",
   "pygments_lexer": "ipython3",
   "version": "3.6.9"
  }
 },
 "nbformat": 4,
 "nbformat_minor": 2
}
