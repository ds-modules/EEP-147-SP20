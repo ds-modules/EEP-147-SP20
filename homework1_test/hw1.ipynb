{
 "cells": [
  {
   "cell_type": "markdown",
   "metadata": {},
   "source": [
    "## ENVECON 147\n",
    "\n",
    "In this assignment, we will work with the electricity market data that we will use in the Electricity Strategy game to learn how to use the data to create an electricity supply curve, how to determine the market clearing price for a given demand, and how a tax on CO2 emissions will affect the supply curve and price."
   ]
  },
  {
   "cell_type": "markdown",
   "metadata": {},
   "source": [
    "1. Load in Pandas, Numpy, and Pyplot from Matplotlib."
   ]
  },
  {
   "cell_type": "code",
   "execution_count": null,
   "metadata": {},
   "outputs": [],
   "source": []
  },
  {
   "cell_type": "markdown",
   "metadata": {},
   "source": [
    "2. Import the file ESGPortfolios.csv as a Pandas dataframe.  Save it as ESG.  Display the first few rows."
   ]
  },
  {
   "cell_type": "code",
   "execution_count": null,
   "metadata": {
    "scrolled": true
   },
   "outputs": [],
   "source": []
  },
  {
   "cell_type": "markdown",
   "metadata": {},
   "source": [
    "3. Capacity_MW is the quantity that each plant can produce.  Var_Cost_USDperMWH is the price at which the plant produces.  In order to create a supply curve, we will need to order our plants from lowest to highest cost.  Sort the dataframe on Var_Cost_USDperMWH from lowest to highest.  Display the first few rows."
   ]
  },
  {
   "cell_type": "code",
   "execution_count": null,
   "metadata": {},
   "outputs": [],
   "source": []
  },
  {
   "cell_type": "markdown",
   "metadata": {},
   "source": [
    "4. Now, we will need to determine how much quantity is available for each price. For any price p, a plant will produce if its cost is smaller than p.  Then for any price, the quantity supplied will be equal to the capacity of all plants with a cost less than or equal to p.  Let's treat the cost in each row of our dataframe as a possible price.  We will create a new column which will equal the total quantity supplied at that price.\n",
    "\n",
    "    Since the plants are sorted from lowest to highest cost, we just need to sum up the capacity of all plants up until and including the current row.  We can use numpy's cumsum() function to get the cumulative sum of a list.  Use np.cumsum() on ESG['Capacity_MW'] and add this to ESG as a new column called 'Cumulative_Capacity'.  Display the first few rows."
   ]
  },
  {
   "cell_type": "code",
   "execution_count": null,
   "metadata": {},
   "outputs": [],
   "source": []
  },
  {
   "cell_type": "markdown",
   "metadata": {},
   "source": [
    "5. Now, create a supply curve!  Plot a scatterplot with price (cost) as a function of quantity (cumulative capacity). (We will see later that the actual supply curve is a step-function.)"
   ]
  },
  {
   "cell_type": "code",
   "execution_count": null,
   "metadata": {},
   "outputs": [],
   "source": []
  },
  {
   "cell_type": "markdown",
   "metadata": {},
   "source": [
    "6. Now suppose demand were perfectly inelastic, equal to 14300MWH.  Display the row containing the market clearing price.  You can find this by indexing the ESG dataframe with the row index ESG['Cumulative_Capacity']==14300."
   ]
  },
  {
   "cell_type": "code",
   "execution_count": null,
   "metadata": {},
   "outputs": [],
   "source": []
  },
  {
   "cell_type": "markdown",
   "metadata": {},
   "source": [
    "---\n",
    "\n",
    "## Submission\n",
    "\n",
    "Congrats on finishing your first lab notebook! To turn in this homework assignment, go to File > Download As and select **PDF via HTML**; upload the PDF this generates to Gradescope."
   ]
  }
 ],
 "metadata": {
  "history": [
   {
    "code": "import pandas as pd\nimport numpy as np\nimport matplotlib.pyplot as plt",
    "id": "7ac1821aaf58451cbbf23c71d6179eed",
    "idx": 2,
    "time": "2021-01-19T00:59:01.585Z",
    "type": "execution"
   },
   {
    "id": "7ac1821aaf58451cbbf23c71d6179eed",
    "time": "2021-01-19T00:59:02.286Z",
    "type": "completion"
   },
   {
    "code": "ESG = pd.read_csv('ESG.csv')",
    "id": "074169439a3d4e96b519a40baf7c8aaf",
    "idx": 4,
    "time": "2021-01-19T01:00:22.697Z",
    "type": "execution"
   },
   {
    "id": "074169439a3d4e96b519a40baf7c8aaf",
    "time": "2021-01-19T01:00:22.898Z",
    "type": "completion"
   },
   {
    "code": "ESG = pd.read_csv('ESGPortfolios.csv')",
    "id": "074169439a3d4e96b519a40baf7c8aaf",
    "idx": 4,
    "time": "2021-01-19T01:01:03.295Z",
    "type": "execution"
   },
   {
    "id": "074169439a3d4e96b519a40baf7c8aaf",
    "time": "2021-01-19T01:01:03.411Z",
    "type": "completion"
   },
   {
    "code": "ESG = pd.read_csv('ESGPorfolios.csv')",
    "id": "074169439a3d4e96b519a40baf7c8aaf",
    "idx": 4,
    "time": "2021-01-19T01:01:20.231Z",
    "type": "execution"
   },
   {
    "id": "074169439a3d4e96b519a40baf7c8aaf",
    "time": "2021-01-19T01:01:20.289Z",
    "type": "completion"
   },
   {
    "code": "ESG = pd.read_csv('ESGPorfolios.csv')\ndisplay(ESG.head())",
    "id": "074169439a3d4e96b519a40baf7c8aaf",
    "idx": 4,
    "time": "2021-01-19T01:01:40.229Z",
    "type": "execution"
   },
   {
    "id": "074169439a3d4e96b519a40baf7c8aaf",
    "time": "2021-01-19T01:01:40.332Z",
    "type": "completion"
   },
   {
    "code": "ESG.sort_values('Total_Var_Cost_USDperMWH', ascending=True, ignore_index=True, inplace=True)",
    "id": "bd2fed05a651477181cc5140a0286275",
    "idx": 6,
    "time": "2021-01-19T01:05:11.975Z",
    "type": "execution"
   },
   {
    "id": "bd2fed05a651477181cc5140a0286275",
    "time": "2021-01-19T01:05:12.034Z",
    "type": "completion"
   },
   {
    "code": "ESG.sort_values('Total_Var_Cost_USDperMWH', ascending=True, ignore_index=True, inplace=True)\ndisplay(ESG)",
    "id": "bd2fed05a651477181cc5140a0286275",
    "idx": 6,
    "time": "2021-01-19T01:05:17.376Z",
    "type": "execution"
   },
   {
    "id": "bd2fed05a651477181cc5140a0286275",
    "time": "2021-01-19T01:05:17.558Z",
    "type": "completion"
   },
   {
    "code": "ESG.sort_values('Total_Var_Cost_USDperMWH', ascending=True, ignore_index=True, inplace=True)\ndisplay(ESG.head())",
    "id": "bd2fed05a651477181cc5140a0286275",
    "idx": 6,
    "time": "2021-01-19T01:05:21.153Z",
    "type": "execution"
   },
   {
    "id": "bd2fed05a651477181cc5140a0286275",
    "time": "2021-01-19T01:05:21.217Z",
    "type": "completion"
   },
   {
    "code": "ESG['Cumulative_Capacity'] = np.cumsum(ESG['Capacity_MW'])\ndisplay(ESG.head())",
    "id": "18631347c7fe4693886ce50e7cd92ba7",
    "idx": 8,
    "time": "2021-01-19T01:15:31.344Z",
    "type": "execution"
   },
   {
    "id": "18631347c7fe4693886ce50e7cd92ba7",
    "time": "2021-01-19T01:15:31.432Z",
    "type": "completion"
   },
   {
    "code": "plt.scatter(x = ESG['Cumulative_Capacity'], y = ESG['Total_Var_Cost_USDperMWH'])\nplt.title('Electricity Supply')\nplt.xlabel('Quantity')\nplt.ylabel('Price')\nplt.show()",
    "id": "ae78ea928ee2484084019f80a38917bf",
    "idx": 10,
    "time": "2021-01-19T01:19:16.346Z",
    "type": "execution"
   },
   {
    "id": "ae78ea928ee2484084019f80a38917bf",
    "time": "2021-01-19T01:19:16.558Z",
    "type": "completion"
   },
   {
    "code": "ESG[ESG['Cumulative_Capacity']==4300]",
    "id": "f278d37a2d3446848123dfecc0307ef6",
    "idx": 11,
    "time": "2021-01-19T01:21:12.961Z",
    "type": "execution"
   },
   {
    "id": "f278d37a2d3446848123dfecc0307ef6",
    "time": "2021-01-19T01:21:13.048Z",
    "type": "completion"
   },
   {
    "code": "ESG[ESG['Cumulative_Capacity']]",
    "id": "f278d37a2d3446848123dfecc0307ef6",
    "idx": 11,
    "time": "2021-01-19T01:22:07.325Z",
    "type": "execution"
   },
   {
    "id": "f278d37a2d3446848123dfecc0307ef6",
    "time": "2021-01-19T01:22:07.428Z",
    "type": "completion"
   },
   {
    "code": "ESG['Cumulative_Capacity']",
    "id": "f278d37a2d3446848123dfecc0307ef6",
    "idx": 11,
    "time": "2021-01-19T01:22:11.594Z",
    "type": "execution"
   },
   {
    "id": "f278d37a2d3446848123dfecc0307ef6",
    "time": "2021-01-19T01:22:11.649Z",
    "type": "completion"
   },
   {
    "code": "ESG[ESG['Cumulative_Capacity']==14300]",
    "id": "f278d37a2d3446848123dfecc0307ef6",
    "idx": 11,
    "time": "2021-01-19T01:22:31.053Z",
    "type": "execution"
   },
   {
    "id": "f278d37a2d3446848123dfecc0307ef6",
    "time": "2021-01-19T01:22:31.125Z",
    "type": "completion"
   },
   {
    "code": "ESG[ESG['Cumulative_Capacity']==14300]]",
    "id": "f278d37a2d3446848123dfecc0307ef6",
    "idx": 12,
    "time": "2021-01-19T01:29:33.255Z",
    "type": "execution"
   },
   {
    "id": "f278d37a2d3446848123dfecc0307ef6",
    "time": "2021-01-19T01:29:33.315Z",
    "type": "completion"
   },
   {
    "code": "ESG[ESG['Cumulative_Capacity']==14300]",
    "id": "f278d37a2d3446848123dfecc0307ef6",
    "idx": 12,
    "time": "2021-01-19T01:29:37.583Z",
    "type": "execution"
   },
   {
    "id": "f278d37a2d3446848123dfecc0307ef6",
    "time": "2021-01-19T01:29:37.663Z",
    "type": "completion"
   },
   {
    "code": "display(ESG[ESG['Cumulative_Capacity']==14300])",
    "id": "f278d37a2d3446848123dfecc0307ef6",
    "idx": 12,
    "time": "2021-01-19T01:32:27.601Z",
    "type": "execution"
   },
   {
    "id": "f278d37a2d3446848123dfecc0307ef6",
    "time": "2021-01-19T01:32:27.673Z",
    "type": "completion"
   },
   {
    "code": "import pandas as pd\nimport numpy as np\nimport matplotlib.pyplot as plt",
    "id": "7ac1821aaf58451cbbf23c71d6179eed",
    "idx": 2,
    "time": "2021-01-19T01:33:07.627Z",
    "type": "execution"
   },
   {
    "code": "ESG = pd.read_csv('ESGPorfolios.csv')\ndisplay(ESG.head())",
    "id": "074169439a3d4e96b519a40baf7c8aaf",
    "idx": 4,
    "time": "2021-01-19T01:33:07.630Z",
    "type": "execution"
   },
   {
    "code": "ESG.sort_values('Total_Var_Cost_USDperMWH', ascending=True, ignore_index=True, inplace=True)\ndisplay(ESG.head())",
    "id": "bd2fed05a651477181cc5140a0286275",
    "idx": 6,
    "time": "2021-01-19T01:33:07.634Z",
    "type": "execution"
   },
   {
    "code": "ESG['Cumulative_Capacity'] = np.cumsum(ESG['Capacity_MW'])\ndisplay(ESG.head())",
    "id": "18631347c7fe4693886ce50e7cd92ba7",
    "idx": 8,
    "time": "2021-01-19T01:33:07.639Z",
    "type": "execution"
   },
   {
    "code": "plt.scatter(x = ESG['Cumulative_Capacity'], y = ESG['Total_Var_Cost_USDperMWH'])\nplt.title('Electricity Supply')\nplt.xlabel('Quantity')\nplt.ylabel('Price')\nplt.show()",
    "id": "ae78ea928ee2484084019f80a38917bf",
    "idx": 10,
    "time": "2021-01-19T01:33:07.643Z",
    "type": "execution"
   },
   {
    "code": "display(ESG[ESG['Cumulative_Capacity']==14300])",
    "id": "f278d37a2d3446848123dfecc0307ef6",
    "idx": 12,
    "time": "2021-01-19T01:33:07.648Z",
    "type": "execution"
   },
   {
    "id": "7ac1821aaf58451cbbf23c71d6179eed",
    "time": "2021-01-19T01:33:08.266Z",
    "type": "completion"
   },
   {
    "id": "074169439a3d4e96b519a40baf7c8aaf",
    "time": "2021-01-19T01:33:08.339Z",
    "type": "completion"
   },
   {
    "id": "bd2fed05a651477181cc5140a0286275",
    "time": "2021-01-19T01:33:08.354Z",
    "type": "completion"
   },
   {
    "id": "18631347c7fe4693886ce50e7cd92ba7",
    "time": "2021-01-19T01:33:08.357Z",
    "type": "completion"
   },
   {
    "id": "ae78ea928ee2484084019f80a38917bf",
    "time": "2021-01-19T01:33:08.493Z",
    "type": "completion"
   },
   {
    "id": "f278d37a2d3446848123dfecc0307ef6",
    "time": "2021-01-19T01:33:08.523Z",
    "type": "completion"
   }
  ],
  "kernelspec": {
   "display_name": "Python 3",
   "language": "python",
   "name": "python3"
  },
  "language_info": {
   "codemirror_mode": {
    "name": "ipython",
    "version": 3
   },
   "file_extension": ".py",
   "mimetype": "text/x-python",
   "name": "python",
   "nbconvert_exporter": "python",
   "pygments_lexer": "ipython3",
   "version": "3.8.6"
  }
 },
 "nbformat": 4,
 "nbformat_minor": 4
}
