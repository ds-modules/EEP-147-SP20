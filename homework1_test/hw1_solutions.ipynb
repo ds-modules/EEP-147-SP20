{
 "cells": [
  {
   "cell_type": "markdown",
   "metadata": {},
   "source": [
    "## ENVECON 147\n",
    "\n",
    "In this assignment, we will work with the electricity market data that we will use in the Electricity Strategy game to learn how to use the data to create an electricity supply curve, how to determine the market clearing price for a given demand, and how a tax on CO2 emissions will affect the supply curve and price."
   ]
  },
  {
   "cell_type": "markdown",
   "metadata": {},
   "source": [
    "1. Load in Pandas, Numpy, and Pyplot from Matplotlib."
   ]
  },
  {
   "cell_type": "code",
   "execution_count": 1,
   "metadata": {},
   "outputs": [],
   "source": [
    "import pandas as pd\n",
    "import numpy as np\n",
    "import matplotlib.pyplot as plt"
   ]
  },
  {
   "cell_type": "markdown",
   "metadata": {},
   "source": [
    "2. Import the file ESGPortfolios.csv as a Pandas dataframe.  Save it as ESG.  Display the first few rows."
   ]
  },
  {
   "cell_type": "code",
   "execution_count": 2,
   "metadata": {
    "scrolled": true
   },
   "outputs": [
    {
     "data": {
      "text/html": [
       "<div>\n",
       "<style scoped>\n",
       "    .dataframe tbody tr th:only-of-type {\n",
       "        vertical-align: middle;\n",
       "    }\n",
       "\n",
       "    .dataframe tbody tr th {\n",
       "        vertical-align: top;\n",
       "    }\n",
       "\n",
       "    .dataframe thead th {\n",
       "        text-align: right;\n",
       "    }\n",
       "</style>\n",
       "<table border=\"1\" class=\"dataframe\">\n",
       "  <thead>\n",
       "    <tr style=\"text-align: right;\">\n",
       "      <th></th>\n",
       "      <th>Group</th>\n",
       "      <th>Group_num</th>\n",
       "      <th>UNIT NAME</th>\n",
       "      <th>Capacity_MW</th>\n",
       "      <th>Fuel_Cost_USDperMWH</th>\n",
       "      <th>Var_OandM_USDperMWH</th>\n",
       "      <th>Total_Var_Cost_USDperMWH</th>\n",
       "      <th>Carbon_tonsperMWH</th>\n",
       "      <th>FixedCst_OandM_perDay</th>\n",
       "      <th>Plant_ID</th>\n",
       "    </tr>\n",
       "  </thead>\n",
       "  <tbody>\n",
       "    <tr>\n",
       "      <th>0</th>\n",
       "      <td>Big Coal</td>\n",
       "      <td>1</td>\n",
       "      <td>FOUR CORNERS</td>\n",
       "      <td>1900</td>\n",
       "      <td>35.00</td>\n",
       "      <td>1.5</td>\n",
       "      <td>36.50</td>\n",
       "      <td>1.10</td>\n",
       "      <td>8000</td>\n",
       "      <td>11</td>\n",
       "    </tr>\n",
       "    <tr>\n",
       "      <th>1</th>\n",
       "      <td>Big Coal</td>\n",
       "      <td>1</td>\n",
       "      <td>ALAMITOS 7</td>\n",
       "      <td>250</td>\n",
       "      <td>72.22</td>\n",
       "      <td>1.5</td>\n",
       "      <td>73.72</td>\n",
       "      <td>0.85</td>\n",
       "      <td>0</td>\n",
       "      <td>12</td>\n",
       "    </tr>\n",
       "    <tr>\n",
       "      <th>2</th>\n",
       "      <td>Big Coal</td>\n",
       "      <td>1</td>\n",
       "      <td>HUNTINGTON BEACH 1&amp;2</td>\n",
       "      <td>300</td>\n",
       "      <td>39.00</td>\n",
       "      <td>1.5</td>\n",
       "      <td>40.50</td>\n",
       "      <td>0.46</td>\n",
       "      <td>2000</td>\n",
       "      <td>13</td>\n",
       "    </tr>\n",
       "    <tr>\n",
       "      <th>3</th>\n",
       "      <td>Big Coal</td>\n",
       "      <td>1</td>\n",
       "      <td>HUNTINGTON BEACH 5</td>\n",
       "      <td>150</td>\n",
       "      <td>65.00</td>\n",
       "      <td>1.5</td>\n",
       "      <td>66.50</td>\n",
       "      <td>0.77</td>\n",
       "      <td>2000</td>\n",
       "      <td>14</td>\n",
       "    </tr>\n",
       "    <tr>\n",
       "      <th>4</th>\n",
       "      <td>Big Coal</td>\n",
       "      <td>1</td>\n",
       "      <td>REDONDO 5&amp;6</td>\n",
       "      <td>350</td>\n",
       "      <td>40.44</td>\n",
       "      <td>1.5</td>\n",
       "      <td>41.94</td>\n",
       "      <td>0.48</td>\n",
       "      <td>3000</td>\n",
       "      <td>15</td>\n",
       "    </tr>\n",
       "  </tbody>\n",
       "</table>\n",
       "</div>"
      ],
      "text/plain": [
       "      Group  Group_num             UNIT NAME  Capacity_MW  \\\n",
       "0  Big Coal          1          FOUR CORNERS         1900   \n",
       "1  Big Coal          1            ALAMITOS 7          250   \n",
       "2  Big Coal          1  HUNTINGTON BEACH 1&2          300   \n",
       "3  Big Coal          1    HUNTINGTON BEACH 5          150   \n",
       "4  Big Coal          1           REDONDO 5&6          350   \n",
       "\n",
       "   Fuel_Cost_USDperMWH  Var_OandM_USDperMWH  Total_Var_Cost_USDperMWH  \\\n",
       "0                35.00                  1.5                     36.50   \n",
       "1                72.22                  1.5                     73.72   \n",
       "2                39.00                  1.5                     40.50   \n",
       "3                65.00                  1.5                     66.50   \n",
       "4                40.44                  1.5                     41.94   \n",
       "\n",
       "   Carbon_tonsperMWH  FixedCst_OandM_perDay  Plant_ID  \n",
       "0               1.10                   8000        11  \n",
       "1               0.85                      0        12  \n",
       "2               0.46                   2000        13  \n",
       "3               0.77                   2000        14  \n",
       "4               0.48                   3000        15  "
      ]
     },
     "metadata": {},
     "output_type": "display_data"
    }
   ],
   "source": [
    "ESG = pd.read_csv('ESGPorfolios.csv')\n",
    "display(ESG.head())"
   ]
  },
  {
   "cell_type": "markdown",
   "metadata": {},
   "source": [
    "3. Capacity_MW is the quantity that each plant can produce.  Total_Var_Cost_USDperMWH is the price at which the plant produces.  In order to create a supply curve, we will need to order our plants from lowest to highest cost.  Sort the dataframe on Total_Var_Cost_USDperMWH from lowest to highest.  Display the first few rows."
   ]
  },
  {
   "cell_type": "code",
   "execution_count": 3,
   "metadata": {},
   "outputs": [
    {
     "data": {
      "text/html": [
       "<div>\n",
       "<style scoped>\n",
       "    .dataframe tbody tr th:only-of-type {\n",
       "        vertical-align: middle;\n",
       "    }\n",
       "\n",
       "    .dataframe tbody tr th {\n",
       "        vertical-align: top;\n",
       "    }\n",
       "\n",
       "    .dataframe thead th {\n",
       "        text-align: right;\n",
       "    }\n",
       "</style>\n",
       "<table border=\"1\" class=\"dataframe\">\n",
       "  <thead>\n",
       "    <tr style=\"text-align: right;\">\n",
       "      <th></th>\n",
       "      <th>Group</th>\n",
       "      <th>Group_num</th>\n",
       "      <th>UNIT NAME</th>\n",
       "      <th>Capacity_MW</th>\n",
       "      <th>Fuel_Cost_USDperMWH</th>\n",
       "      <th>Var_OandM_USDperMWH</th>\n",
       "      <th>Total_Var_Cost_USDperMWH</th>\n",
       "      <th>Carbon_tonsperMWH</th>\n",
       "      <th>FixedCst_OandM_perDay</th>\n",
       "      <th>Plant_ID</th>\n",
       "    </tr>\n",
       "  </thead>\n",
       "  <tbody>\n",
       "    <tr>\n",
       "      <th>0</th>\n",
       "      <td>Old Timers</td>\n",
       "      <td>7</td>\n",
       "      <td>BIG CREEK</td>\n",
       "      <td>1000</td>\n",
       "      <td>0.00</td>\n",
       "      <td>0.0</td>\n",
       "      <td>0.00</td>\n",
       "      <td>0.00</td>\n",
       "      <td>15000</td>\n",
       "      <td>61</td>\n",
       "    </tr>\n",
       "    <tr>\n",
       "      <th>1</th>\n",
       "      <td>Fossil Light</td>\n",
       "      <td>8</td>\n",
       "      <td>HELMS</td>\n",
       "      <td>800</td>\n",
       "      <td>0.00</td>\n",
       "      <td>0.5</td>\n",
       "      <td>0.50</td>\n",
       "      <td>0.00</td>\n",
       "      <td>15000</td>\n",
       "      <td>72</td>\n",
       "    </tr>\n",
       "    <tr>\n",
       "      <th>2</th>\n",
       "      <td>Fossil Light</td>\n",
       "      <td>8</td>\n",
       "      <td>DIABLO CANYON 1</td>\n",
       "      <td>1000</td>\n",
       "      <td>7.50</td>\n",
       "      <td>4.0</td>\n",
       "      <td>11.50</td>\n",
       "      <td>0.00</td>\n",
       "      <td>20000</td>\n",
       "      <td>75</td>\n",
       "    </tr>\n",
       "    <tr>\n",
       "      <th>3</th>\n",
       "      <td>Bay Views</td>\n",
       "      <td>4</td>\n",
       "      <td>MOSS LANDING 7</td>\n",
       "      <td>750</td>\n",
       "      <td>31.06</td>\n",
       "      <td>1.5</td>\n",
       "      <td>32.56</td>\n",
       "      <td>0.37</td>\n",
       "      <td>8000</td>\n",
       "      <td>34</td>\n",
       "    </tr>\n",
       "    <tr>\n",
       "      <th>4</th>\n",
       "      <td>Bay Views</td>\n",
       "      <td>4</td>\n",
       "      <td>MOSS LANDING 6</td>\n",
       "      <td>750</td>\n",
       "      <td>31.06</td>\n",
       "      <td>1.5</td>\n",
       "      <td>32.56</td>\n",
       "      <td>0.37</td>\n",
       "      <td>8000</td>\n",
       "      <td>33</td>\n",
       "    </tr>\n",
       "  </tbody>\n",
       "</table>\n",
       "</div>"
      ],
      "text/plain": [
       "          Group  Group_num        UNIT NAME  Capacity_MW  Fuel_Cost_USDperMWH  \\\n",
       "0    Old Timers          7        BIG CREEK         1000                 0.00   \n",
       "1  Fossil Light          8            HELMS          800                 0.00   \n",
       "2  Fossil Light          8  DIABLO CANYON 1         1000                 7.50   \n",
       "3     Bay Views          4   MOSS LANDING 7          750                31.06   \n",
       "4     Bay Views          4   MOSS LANDING 6          750                31.06   \n",
       "\n",
       "   Var_OandM_USDperMWH  Total_Var_Cost_USDperMWH  Carbon_tonsperMWH  \\\n",
       "0                  0.0                      0.00               0.00   \n",
       "1                  0.5                      0.50               0.00   \n",
       "2                  4.0                     11.50               0.00   \n",
       "3                  1.5                     32.56               0.37   \n",
       "4                  1.5                     32.56               0.37   \n",
       "\n",
       "   FixedCst_OandM_perDay  Plant_ID  \n",
       "0                  15000        61  \n",
       "1                  15000        72  \n",
       "2                  20000        75  \n",
       "3                   8000        34  \n",
       "4                   8000        33  "
      ]
     },
     "metadata": {},
     "output_type": "display_data"
    }
   ],
   "source": [
    "ESG.sort_values('Total_Var_Cost_USDperMWH', ascending=True, ignore_index=True, inplace=True)\n",
    "display(ESG.head())"
   ]
  },
  {
   "cell_type": "markdown",
   "metadata": {},
   "source": [
    "4. Now, we will need to determine how much quantity is available for each price. For any price p, a plant will produce if its cost is smaller than p.  Then for any price, the quantity supplied will be equal to the capacity of all plants with a cost less than or equal to p.  Let's treat the cost in each row of our dataframe as a possible price.  We will create a new column which will equal the total quantity supplied at that price.\n",
    "\n",
    "    Since the plants are sorted from lowest to highest cost, we just need to sum up the capacity of all plants up until and including the current row.  We can use numpy's cumsum() function to get the cumulative sum of a list.  Use np.cumsum() on ESG['Capacity_MW'] and add this to ESG as a new column called 'Cumulative_Capacity'.  Display the first few rows."
   ]
  },
  {
   "cell_type": "code",
   "execution_count": 4,
   "metadata": {},
   "outputs": [
    {
     "data": {
      "text/html": [
       "<div>\n",
       "<style scoped>\n",
       "    .dataframe tbody tr th:only-of-type {\n",
       "        vertical-align: middle;\n",
       "    }\n",
       "\n",
       "    .dataframe tbody tr th {\n",
       "        vertical-align: top;\n",
       "    }\n",
       "\n",
       "    .dataframe thead th {\n",
       "        text-align: right;\n",
       "    }\n",
       "</style>\n",
       "<table border=\"1\" class=\"dataframe\">\n",
       "  <thead>\n",
       "    <tr style=\"text-align: right;\">\n",
       "      <th></th>\n",
       "      <th>Group</th>\n",
       "      <th>Group_num</th>\n",
       "      <th>UNIT NAME</th>\n",
       "      <th>Capacity_MW</th>\n",
       "      <th>Fuel_Cost_USDperMWH</th>\n",
       "      <th>Var_OandM_USDperMWH</th>\n",
       "      <th>Total_Var_Cost_USDperMWH</th>\n",
       "      <th>Carbon_tonsperMWH</th>\n",
       "      <th>FixedCst_OandM_perDay</th>\n",
       "      <th>Plant_ID</th>\n",
       "      <th>Cumulative_Capacity</th>\n",
       "    </tr>\n",
       "  </thead>\n",
       "  <tbody>\n",
       "    <tr>\n",
       "      <th>0</th>\n",
       "      <td>Old Timers</td>\n",
       "      <td>7</td>\n",
       "      <td>BIG CREEK</td>\n",
       "      <td>1000</td>\n",
       "      <td>0.00</td>\n",
       "      <td>0.0</td>\n",
       "      <td>0.00</td>\n",
       "      <td>0.00</td>\n",
       "      <td>15000</td>\n",
       "      <td>61</td>\n",
       "      <td>1000</td>\n",
       "    </tr>\n",
       "    <tr>\n",
       "      <th>1</th>\n",
       "      <td>Fossil Light</td>\n",
       "      <td>8</td>\n",
       "      <td>HELMS</td>\n",
       "      <td>800</td>\n",
       "      <td>0.00</td>\n",
       "      <td>0.5</td>\n",
       "      <td>0.50</td>\n",
       "      <td>0.00</td>\n",
       "      <td>15000</td>\n",
       "      <td>72</td>\n",
       "      <td>1800</td>\n",
       "    </tr>\n",
       "    <tr>\n",
       "      <th>2</th>\n",
       "      <td>Fossil Light</td>\n",
       "      <td>8</td>\n",
       "      <td>DIABLO CANYON 1</td>\n",
       "      <td>1000</td>\n",
       "      <td>7.50</td>\n",
       "      <td>4.0</td>\n",
       "      <td>11.50</td>\n",
       "      <td>0.00</td>\n",
       "      <td>20000</td>\n",
       "      <td>75</td>\n",
       "      <td>2800</td>\n",
       "    </tr>\n",
       "    <tr>\n",
       "      <th>3</th>\n",
       "      <td>Bay Views</td>\n",
       "      <td>4</td>\n",
       "      <td>MOSS LANDING 7</td>\n",
       "      <td>750</td>\n",
       "      <td>31.06</td>\n",
       "      <td>1.5</td>\n",
       "      <td>32.56</td>\n",
       "      <td>0.37</td>\n",
       "      <td>8000</td>\n",
       "      <td>34</td>\n",
       "      <td>3550</td>\n",
       "    </tr>\n",
       "    <tr>\n",
       "      <th>4</th>\n",
       "      <td>Bay Views</td>\n",
       "      <td>4</td>\n",
       "      <td>MOSS LANDING 6</td>\n",
       "      <td>750</td>\n",
       "      <td>31.06</td>\n",
       "      <td>1.5</td>\n",
       "      <td>32.56</td>\n",
       "      <td>0.37</td>\n",
       "      <td>8000</td>\n",
       "      <td>33</td>\n",
       "      <td>4300</td>\n",
       "    </tr>\n",
       "  </tbody>\n",
       "</table>\n",
       "</div>"
      ],
      "text/plain": [
       "          Group  Group_num        UNIT NAME  Capacity_MW  Fuel_Cost_USDperMWH  \\\n",
       "0    Old Timers          7        BIG CREEK         1000                 0.00   \n",
       "1  Fossil Light          8            HELMS          800                 0.00   \n",
       "2  Fossil Light          8  DIABLO CANYON 1         1000                 7.50   \n",
       "3     Bay Views          4   MOSS LANDING 7          750                31.06   \n",
       "4     Bay Views          4   MOSS LANDING 6          750                31.06   \n",
       "\n",
       "   Var_OandM_USDperMWH  Total_Var_Cost_USDperMWH  Carbon_tonsperMWH  \\\n",
       "0                  0.0                      0.00               0.00   \n",
       "1                  0.5                      0.50               0.00   \n",
       "2                  4.0                     11.50               0.00   \n",
       "3                  1.5                     32.56               0.37   \n",
       "4                  1.5                     32.56               0.37   \n",
       "\n",
       "   FixedCst_OandM_perDay  Plant_ID  Cumulative_Capacity  \n",
       "0                  15000        61                 1000  \n",
       "1                  15000        72                 1800  \n",
       "2                  20000        75                 2800  \n",
       "3                   8000        34                 3550  \n",
       "4                   8000        33                 4300  "
      ]
     },
     "metadata": {},
     "output_type": "display_data"
    }
   ],
   "source": [
    "ESG['Cumulative_Capacity'] = np.cumsum(ESG['Capacity_MW'])\n",
    "display(ESG.head())"
   ]
  },
  {
   "cell_type": "markdown",
   "metadata": {},
   "source": [
    "5. Now, create a supply curve!  Plot a scatterplot with price (cost) as a function of quantity (cumulative capacity). (We will see later that the actual supply curve is a step-function.)"
   ]
  },
  {
   "cell_type": "code",
   "execution_count": 5,
   "metadata": {},
   "outputs": [
    {
     "data": {
      "image/png": "[encoded data removed]",
      "text/plain": [
       "<Figure size 432x288 with 1 Axes>"
      ]
     },
     "metadata": {
      "needs_background": "light"
     },
     "output_type": "display_data"
    }
   ],
   "source": [
    "plt.scatter(x = ESG['Cumulative_Capacity'], y = ESG['Total_Var_Cost_USDperMWH'])\n",
    "plt.title('Electricity Supply')\n",
    "plt.xlabel('Quantity')\n",
    "plt.ylabel('Price')\n",
    "plt.show()"
   ]
  },
  {
   "cell_type": "markdown",
   "metadata": {},
   "source": [
    "6. Now suppose demand were perfectly inelastic, equal to 14300MWH.  Display the row containing the market clearing price.  You can find this by indexing the ESG dataframe with the row index ESG['Cumulative_Capacity']==14300."
   ]
  },
  {
   "cell_type": "code",
   "execution_count": 6,
   "metadata": {},
   "outputs": [
    {
     "data": {
      "text/html": [
       "<div>\n",
       "<style scoped>\n",
       "    .dataframe tbody tr th:only-of-type {\n",
       "        vertical-align: middle;\n",
       "    }\n",
       "\n",
       "    .dataframe tbody tr th {\n",
       "        vertical-align: top;\n",
       "    }\n",
       "\n",
       "    .dataframe thead th {\n",
       "        text-align: right;\n",
       "    }\n",
       "</style>\n",
       "<table border=\"1\" class=\"dataframe\">\n",
       "  <thead>\n",
       "    <tr style=\"text-align: right;\">\n",
       "      <th></th>\n",
       "      <th>Group</th>\n",
       "      <th>Group_num</th>\n",
       "      <th>UNIT NAME</th>\n",
       "      <th>Capacity_MW</th>\n",
       "      <th>Fuel_Cost_USDperMWH</th>\n",
       "      <th>Var_OandM_USDperMWH</th>\n",
       "      <th>Total_Var_Cost_USDperMWH</th>\n",
       "      <th>Carbon_tonsperMWH</th>\n",
       "      <th>FixedCst_OandM_perDay</th>\n",
       "      <th>Plant_ID</th>\n",
       "      <th>Cumulative_Capacity</th>\n",
       "    </tr>\n",
       "  </thead>\n",
       "  <tbody>\n",
       "    <tr>\n",
       "      <th>18</th>\n",
       "      <td>Big Gas</td>\n",
       "      <td>2</td>\n",
       "      <td>ENCINA</td>\n",
       "      <td>950</td>\n",
       "      <td>41.17</td>\n",
       "      <td>0.5</td>\n",
       "      <td>41.67</td>\n",
       "      <td>0.49</td>\n",
       "      <td>2000</td>\n",
       "      <td>25</td>\n",
       "      <td>14300</td>\n",
       "    </tr>\n",
       "  </tbody>\n",
       "</table>\n",
       "</div>"
      ],
      "text/plain": [
       "      Group  Group_num UNIT NAME  Capacity_MW  Fuel_Cost_USDperMWH  \\\n",
       "18  Big Gas          2    ENCINA          950                41.17   \n",
       "\n",
       "    Var_OandM_USDperMWH  Total_Var_Cost_USDperMWH  Carbon_tonsperMWH  \\\n",
       "18                  0.5                     41.67               0.49   \n",
       "\n",
       "    FixedCst_OandM_perDay  Plant_ID  Cumulative_Capacity  \n",
       "18                   2000        25                14300  "
      ]
     },
     "metadata": {},
     "output_type": "display_data"
    }
   ],
   "source": [
    "display(ESG[ESG['Cumulative_Capacity']==14300])"
   ]
  }
 ],
 "metadata": {
  "history": [
   {
    "code": "import pandas as pd\nimport numpy as np\nimport matplotlib.pyplot as plt",
    "id": "7ac1821aaf58451cbbf23c71d6179eed",
    "idx": 2,
    "time": "2021-01-19T00:59:01.585Z",
    "type": "execution"
   },
   {
    "id": "7ac1821aaf58451cbbf23c71d6179eed",
    "time": "2021-01-19T00:59:02.286Z",
    "type": "completion"
   },
   {
    "code": "ESG = pd.read_csv('ESG.csv')",
    "id": "074169439a3d4e96b519a40baf7c8aaf",
    "idx": 4,
    "time": "2021-01-19T01:00:22.697Z",
    "type": "execution"
   },
   {
    "id": "074169439a3d4e96b519a40baf7c8aaf",
    "time": "2021-01-19T01:00:22.898Z",
    "type": "completion"
   },
   {
    "code": "ESG = pd.read_csv('ESGPortfolios.csv')",
    "id": "074169439a3d4e96b519a40baf7c8aaf",
    "idx": 4,
    "time": "2021-01-19T01:01:03.295Z",
    "type": "execution"
   },
   {
    "id": "074169439a3d4e96b519a40baf7c8aaf",
    "time": "2021-01-19T01:01:03.411Z",
    "type": "completion"
   },
   {
    "code": "ESG = pd.read_csv('ESGPorfolios.csv')",
    "id": "074169439a3d4e96b519a40baf7c8aaf",
    "idx": 4,
    "time": "2021-01-19T01:01:20.231Z",
    "type": "execution"
   },
   {
    "id": "074169439a3d4e96b519a40baf7c8aaf",
    "time": "2021-01-19T01:01:20.289Z",
    "type": "completion"
   },
   {
    "code": "ESG = pd.read_csv('ESGPorfolios.csv')\ndisplay(ESG.head())",
    "id": "074169439a3d4e96b519a40baf7c8aaf",
    "idx": 4,
    "time": "2021-01-19T01:01:40.229Z",
    "type": "execution"
   },
   {
    "id": "074169439a3d4e96b519a40baf7c8aaf",
    "time": "2021-01-19T01:01:40.332Z",
    "type": "completion"
   },
   {
    "code": "ESG.sort_values('Total_Var_Cost_USDperMWH', ascending=True, ignore_index=True, inplace=True)",
    "id": "bd2fed05a651477181cc5140a0286275",
    "idx": 6,
    "time": "2021-01-19T01:05:11.975Z",
    "type": "execution"
   },
   {
    "id": "bd2fed05a651477181cc5140a0286275",
    "time": "2021-01-19T01:05:12.034Z",
    "type": "completion"
   },
   {
    "code": "ESG.sort_values('Total_Var_Cost_USDperMWH', ascending=True, ignore_index=True, inplace=True)\ndisplay(ESG)",
    "id": "bd2fed05a651477181cc5140a0286275",
    "idx": 6,
    "time": "2021-01-19T01:05:17.376Z",
    "type": "execution"
   },
   {
    "id": "bd2fed05a651477181cc5140a0286275",
    "time": "2021-01-19T01:05:17.558Z",
    "type": "completion"
   },
   {
    "code": "ESG.sort_values('Total_Var_Cost_USDperMWH', ascending=True, ignore_index=True, inplace=True)\ndisplay(ESG.head())",
    "id": "bd2fed05a651477181cc5140a0286275",
    "idx": 6,
    "time": "2021-01-19T01:05:21.153Z",
    "type": "execution"
   },
   {
    "id": "bd2fed05a651477181cc5140a0286275",
    "time": "2021-01-19T01:05:21.217Z",
    "type": "completion"
   },
   {
    "code": "ESG['Cumulative_Capacity'] = np.cumsum(ESG['Capacity_MW'])\ndisplay(ESG.head())",
    "id": "18631347c7fe4693886ce50e7cd92ba7",
    "idx": 8,
    "time": "2021-01-19T01:15:31.344Z",
    "type": "execution"
   },
   {
    "id": "18631347c7fe4693886ce50e7cd92ba7",
    "time": "2021-01-19T01:15:31.432Z",
    "type": "completion"
   },
   {
    "code": "plt.scatter(x = ESG['Cumulative_Capacity'], y = ESG['Total_Var_Cost_USDperMWH'])\nplt.title('Electricity Supply')\nplt.xlabel('Quantity')\nplt.ylabel('Price')\nplt.show()",
    "id": "ae78ea928ee2484084019f80a38917bf",
    "idx": 10,
    "time": "2021-01-19T01:19:16.346Z",
    "type": "execution"
   },
   {
    "id": "ae78ea928ee2484084019f80a38917bf",
    "time": "2021-01-19T01:19:16.558Z",
    "type": "completion"
   },
   {
    "code": "ESG[ESG['Cumulative_Capacity']==4300]",
    "id": "f278d37a2d3446848123dfecc0307ef6",
    "idx": 11,
    "time": "2021-01-19T01:21:12.961Z",
    "type": "execution"
   },
   {
    "id": "f278d37a2d3446848123dfecc0307ef6",
    "time": "2021-01-19T01:21:13.048Z",
    "type": "completion"
   },
   {
    "code": "ESG[ESG['Cumulative_Capacity']]",
    "id": "f278d37a2d3446848123dfecc0307ef6",
    "idx": 11,
    "time": "2021-01-19T01:22:07.325Z",
    "type": "execution"
   },
   {
    "id": "f278d37a2d3446848123dfecc0307ef6",
    "time": "2021-01-19T01:22:07.428Z",
    "type": "completion"
   },
   {
    "code": "ESG['Cumulative_Capacity']",
    "id": "f278d37a2d3446848123dfecc0307ef6",
    "idx": 11,
    "time": "2021-01-19T01:22:11.594Z",
    "type": "execution"
   },
   {
    "id": "f278d37a2d3446848123dfecc0307ef6",
    "time": "2021-01-19T01:22:11.649Z",
    "type": "completion"
   },
   {
    "code": "ESG[ESG['Cumulative_Capacity']==14300]",
    "id": "f278d37a2d3446848123dfecc0307ef6",
    "idx": 11,
    "time": "2021-01-19T01:22:31.053Z",
    "type": "execution"
   },
   {
    "id": "f278d37a2d3446848123dfecc0307ef6",
    "time": "2021-01-19T01:22:31.125Z",
    "type": "completion"
   },
   {
    "code": "ESG[ESG['Cumulative_Capacity']==14300]]",
    "id": "f278d37a2d3446848123dfecc0307ef6",
    "idx": 12,
    "time": "2021-01-19T01:29:33.255Z",
    "type": "execution"
   },
   {
    "id": "f278d37a2d3446848123dfecc0307ef6",
    "time": "2021-01-19T01:29:33.315Z",
    "type": "completion"
   },
   {
    "code": "ESG[ESG['Cumulative_Capacity']==14300]",
    "id": "f278d37a2d3446848123dfecc0307ef6",
    "idx": 12,
    "time": "2021-01-19T01:29:37.583Z",
    "type": "execution"
   },
   {
    "id": "f278d37a2d3446848123dfecc0307ef6",
    "time": "2021-01-19T01:29:37.663Z",
    "type": "completion"
   },
   {
    "code": "display(ESG[ESG['Cumulative_Capacity']==14300])",
    "id": "f278d37a2d3446848123dfecc0307ef6",
    "idx": 12,
    "time": "2021-01-19T01:32:27.601Z",
    "type": "execution"
   },
   {
    "id": "f278d37a2d3446848123dfecc0307ef6",
    "time": "2021-01-19T01:32:27.673Z",
    "type": "completion"
   },
   {
    "code": "import pandas as pd\nimport numpy as np\nimport matplotlib.pyplot as plt",
    "id": "7ac1821aaf58451cbbf23c71d6179eed",
    "idx": 2,
    "time": "2021-01-19T01:33:07.627Z",
    "type": "execution"
   },
   {
    "code": "ESG = pd.read_csv('ESGPorfolios.csv')\ndisplay(ESG.head())",
    "id": "074169439a3d4e96b519a40baf7c8aaf",
    "idx": 4,
    "time": "2021-01-19T01:33:07.630Z",
    "type": "execution"
   },
   {
    "code": "ESG.sort_values('Total_Var_Cost_USDperMWH', ascending=True, ignore_index=True, inplace=True)\ndisplay(ESG.head())",
    "id": "bd2fed05a651477181cc5140a0286275",
    "idx": 6,
    "time": "2021-01-19T01:33:07.634Z",
    "type": "execution"
   },
   {
    "code": "ESG['Cumulative_Capacity'] = np.cumsum(ESG['Capacity_MW'])\ndisplay(ESG.head())",
    "id": "18631347c7fe4693886ce50e7cd92ba7",
    "idx": 8,
    "time": "2021-01-19T01:33:07.639Z",
    "type": "execution"
   },
   {
    "code": "plt.scatter(x = ESG['Cumulative_Capacity'], y = ESG['Total_Var_Cost_USDperMWH'])\nplt.title('Electricity Supply')\nplt.xlabel('Quantity')\nplt.ylabel('Price')\nplt.show()",
    "id": "ae78ea928ee2484084019f80a38917bf",
    "idx": 10,
    "time": "2021-01-19T01:33:07.643Z",
    "type": "execution"
   },
   {
    "code": "display(ESG[ESG['Cumulative_Capacity']==14300])",
    "id": "f278d37a2d3446848123dfecc0307ef6",
    "idx": 12,
    "time": "2021-01-19T01:33:07.648Z",
    "type": "execution"
   },
   {
    "id": "7ac1821aaf58451cbbf23c71d6179eed",
    "time": "2021-01-19T01:33:08.266Z",
    "type": "completion"
   },
   {
    "id": "074169439a3d4e96b519a40baf7c8aaf",
    "time": "2021-01-19T01:33:08.339Z",
    "type": "completion"
   },
   {
    "id": "bd2fed05a651477181cc5140a0286275",
    "time": "2021-01-19T01:33:08.354Z",
    "type": "completion"
   },
   {
    "id": "18631347c7fe4693886ce50e7cd92ba7",
    "time": "2021-01-19T01:33:08.357Z",
    "type": "completion"
   },
   {
    "id": "ae78ea928ee2484084019f80a38917bf",
    "time": "2021-01-19T01:33:08.493Z",
    "type": "completion"
   },
   {
    "id": "f278d37a2d3446848123dfecc0307ef6",
    "time": "2021-01-19T01:33:08.523Z",
    "type": "completion"
   },
   {
    "code": "import pandas as pd\nimport numpy as np\nimport matplotlib.pyplot as plt",
    "id": "060ba9c2c7f44b3c80b82c2a7c733b05",
    "idx": 2,
    "time": "2021-01-19T01:34:50.028Z",
    "type": "execution"
   },
   {
    "code": "ESG = pd.read_csv('ESGPorfolios.csv')\ndisplay(ESG.head())",
    "id": "59ea1c7320e64f7fabf52f346affbdf2",
    "idx": 4,
    "time": "2021-01-19T01:34:50.038Z",
    "type": "execution"
   },
   {
    "code": "ESG.sort_values('Total_Var_Cost_USDperMWH', ascending=True, ignore_index=True, inplace=True)\ndisplay(ESG.head())",
    "id": "10a60622d480443ba0ad655c082deefd",
    "idx": 6,
    "time": "2021-01-19T01:34:50.041Z",
    "type": "execution"
   },
   {
    "code": "ESG['Cumulative_Capacity'] = np.cumsum(ESG['Capacity_MW'])\ndisplay(ESG.head())",
    "id": "dc0036b205c94fbb8b5a4c88155b06bf",
    "idx": 8,
    "time": "2021-01-19T01:34:50.044Z",
    "type": "execution"
   },
   {
    "code": "plt.scatter(x = ESG['Cumulative_Capacity'], y = ESG['Total_Var_Cost_USDperMWH'])\nplt.title('Electricity Supply')\nplt.xlabel('Quantity')\nplt.ylabel('Price')\nplt.show()",
    "id": "58cecc3f03b54cb18d26c4f494b2ce9d",
    "idx": 10,
    "time": "2021-01-19T01:34:50.046Z",
    "type": "execution"
   },
   {
    "code": "display(ESG[ESG['Cumulative_Capacity']==14300])",
    "id": "810b7947b1f640c4bf609ca8fbdca96e",
    "idx": 12,
    "time": "2021-01-19T01:34:50.049Z",
    "type": "execution"
   },
   {
    "id": "060ba9c2c7f44b3c80b82c2a7c733b05",
    "time": "2021-01-19T01:34:50.661Z",
    "type": "completion"
   },
   {
    "id": "59ea1c7320e64f7fabf52f346affbdf2",
    "time": "2021-01-19T01:34:50.710Z",
    "type": "completion"
   },
   {
    "id": "10a60622d480443ba0ad655c082deefd",
    "time": "2021-01-19T01:34:50.727Z",
    "type": "completion"
   },
   {
    "id": "dc0036b205c94fbb8b5a4c88155b06bf",
    "time": "2021-01-19T01:34:50.756Z",
    "type": "completion"
   },
   {
    "id": "58cecc3f03b54cb18d26c4f494b2ce9d",
    "time": "2021-01-19T01:34:50.877Z",
    "type": "completion"
   },
   {
    "id": "810b7947b1f640c4bf609ca8fbdca96e",
    "time": "2021-01-19T01:34:50.912Z",
    "type": "completion"
   }
  ],
  "kernelspec": {
   "display_name": "Python 3",
   "language": "python",
   "name": "python3"
  },
  "language_info": {
   "codemirror_mode": {
    "name": "ipython",
    "version": 3
   },
   "file_extension": ".py",
   "mimetype": "text/x-python",
   "name": "python",
   "nbconvert_exporter": "python",
   "pygments_lexer": "ipython3",
   "version": "3.8.6"
  }
 },
 "nbformat": 4,
 "nbformat_minor": 4
}
