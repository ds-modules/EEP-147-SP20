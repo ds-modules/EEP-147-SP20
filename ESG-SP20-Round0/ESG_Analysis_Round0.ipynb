{
 "cells": [
  {
   "cell_type": "markdown",
   "metadata": {},
   "source": [
    " # <font color = #254117>[EEP 147]: ESG Analysis Round 0</font>"
   ]
  },
  {
   "cell_type": "markdown",
   "metadata": {},
   "source": [
    "<div style=\"width:image width px; font-size:80%; text-align:center;\"><img src=\"big_creek.jpg\" alt=\"alternate text\" width=\"500\" height=\"height\" style=\"padding-bottom:0.5em;\" />Big Creek Hydroelectric Project - Southern California Edison</div>"
   ]
  },
  {
   "cell_type": "markdown",
   "metadata": {},
   "source": [
    "This notebook can be utilized for analysis of the Electricity Strategy Game."
   ]
  },
  {
   "cell_type": "markdown",
   "metadata": {},
   "source": [
    "First on our agenda is to import **<font color = ##008700>dependencies</font>** -- packages in Python that add to the basic functions in Python -- same as before."
   ]
  },
  {
   "cell_type": "code",
   "execution_count": null,
   "metadata": {},
   "outputs": [],
   "source": [
    "from datascience import *\n",
    "import matplotlib.pyplot as plt\n",
    "import matplotlib.patches as mpatches\n",
    "%matplotlib inline\n",
    "import numpy as np\n",
    "import pandas as pd\n",
    "from ipywidgets import interact, interactive, Dropdown, IntSlider\n",
    "import ipywidgets as widgets\n",
    "plt.style.use('fivethirtyeight')\n",
    "plt.rcParams[\"figure.figsize\"] = [10,6]"
   ]
  },
  {
   "cell_type": "markdown",
   "metadata": {},
   "source": [
    "Next, let's select your portfolio. In the cell below, assign **section** to the section number that corresponds to your own according to the following table.\n",
    "\n",
    "| Number | Section Time  |\n",
    "|---------|---------------|\n",
    "| 1 | Wednesday 8am |\n",
    "| 2 | Wednesday 9am |\n",
    "| 3 | Friday 2pm |\n",
    "| 4 | Friday 3pm |\n",
    "\n",
    "Assign **YOUR_PORTFOLIO** to the name of your portfolio from the following choices:\n",
    "\n",
    "**'Bay Views',\n",
    " 'Beachfront',\n",
    " 'Big Coal',\n",
    " 'Big Gas',\n",
    " 'East Bay',\n",
    " 'Fossil Light',\n",
    " 'Old Timers'**\n",
    " \n",
    "The variable **periods_completed** should be set to the most recently concluded round.\n",
    "\n",
    "The variable **period** should be set to the round that you want to analyze.\n",
    "\n",
    "The variable **hour** should be set to the hour that you want to analyze.\n",
    "\n",
    "The variable **carbon_price_456** should contain carbon prices in each of rounds *[4, 5, 6]*.\n",
    "\n",
    "The variable **pab_periods** should contain each of the periods for which there was or will be a pay-as-bid auction.  This shouldn't change.\n",
    "\n",
    "The variable **bid_own_as_mc** should be set to *True* if you would like to default future bids for your own portfolio to marginal cost (inclusive of carbon price for rounds 4, 5, and 6).  If setting to *False*, you would need to go into the respective bids_.CSV file and manually edit other teams' future bids.  Note that even if *True*, the current round and hour's bids can be adjusted manually down below (after the bids_ variables are defined).\n",
    "\n",
    "The variable **bid_others_as_mc** should be set to *True* if you would like to default future bids for other teams' portfolios to marginal cost (inclusive of carbon price for rounds 4, 5, and 6).  If setting to *False*, you would need to go into the respective bids_.CSV file and manually edit other teams' future bids."
   ]
  },
  {
   "cell_type": "code",
   "execution_count": null,
   "metadata": {},
   "outputs": [],
   "source": [
    "section = 1\n",
    "YOUR_PORTFOLIO = \"Big Coal\"\n",
    "periods_completed = 0\n",
    "period = 0\n",
    "pab_periods = [1]"
   ]
  },
  {
   "cell_type": "markdown",
   "metadata": {},
   "source": [
    "Next we import the demand forecasts."
   ]
  },
  {
   "cell_type": "code",
   "execution_count": null,
   "metadata": {},
   "outputs": [],
   "source": [
    "demand_table = Table.read_table('demand.csv')"
   ]
  },
  {
   "cell_type": "markdown",
   "metadata": {},
   "source": [
    "Next we import our Bids and Porfolios tables, with all bids set to MC."
   ]
  },
  {
   "cell_type": "code",
   "execution_count": null,
   "metadata": {},
   "outputs": [],
   "source": [
    "bids_mc = Table.read_table('MC_bids.csv').sort('PORTFOLIO')\n",
    "ESG = Table.read_table('ESGPorfolios.csv')"
   ]
  },
  {
   "cell_type": "markdown",
   "metadata": {},
   "source": [
    "In the following cell we will join the tables based on the column **Plant_ID**."
   ]
  },
  {
   "cell_type": "code",
   "execution_count": null,
   "metadata": {
    "scrolled": true
   },
   "outputs": [],
   "source": [
    "joined_table_all = bids_mc.join(\"PLANT_ID\", ESG, \"Plant_ID\").sort(\"PLANT_ID\")"
   ]
  },
  {
   "cell_type": "markdown",
   "metadata": {},
   "source": [
    "Now, let's create a function to determine the price given the bids and demand."
   ]
  },
  {
   "cell_type": "code",
   "execution_count": null,
   "metadata": {},
   "outputs": [],
   "source": [
    "def price_calc(input_table, demand, hour, period):\n",
    "    #hour and period determine which bids are taken from joined_table\n",
    "    joined_table = input_table.copy()\n",
    "    sorted_table = joined_table.where(\"PERIOD\", period).sort(\"PRICE\" + str(hour), descending = False)\n",
    "    price = 0\n",
    "    sum_cap = 0\n",
    "    for i in range(0,len(sorted_table['Capacity_MW'])):\n",
    "        if sum_cap + sorted_table['Capacity_MW'][i] > demand:\n",
    "            price = sorted_table['PRICE' + str(hour)][i]\n",
    "            break\n",
    "        else:\n",
    "            sum_cap += sorted_table['Capacity_MW'][i]\n",
    "            price = sorted_table['PRICE' + str(hour)][i]\n",
    "    return price"
   ]
  },
  {
   "cell_type": "markdown",
   "metadata": {},
   "source": [
    "Now, let's create a function to plot the market in a given hour and period."
   ]
  },
  {
   "cell_type": "code",
   "execution_count": null,
   "metadata": {},
   "outputs": [],
   "source": [
    "def find_x_pos(widths):\n",
    "    cumulative_widths = [0]\n",
    "    cumulative_widths.extend(np.cumsum(widths))\n",
    "    half_widths = [i/2 for i in widths]\n",
    "    x_pos = []\n",
    "    for i in range(0, len(half_widths)):\n",
    "        x_pos.append(half_widths[i] + cumulative_widths[i])\n",
    "    return x_pos\n",
    "\n",
    "def price_line_plot(price):\n",
    "    plt.axhline(y=price, color='r', linewidth = 2)\n",
    "    print(\"Price: \" + str(price))\n",
    "    \n",
    "def demand_plot(demand):\n",
    "    plt.axvline(x=demand, color='r', linewidth = 2)\n",
    "    print(\"Capacity: \" + str(demand))\n",
    "\n",
    "def market_plot(input_table, demand, hour, period):\n",
    "    joined_table = input_table.copy()\n",
    "    sorted_joined_table = joined_table.where(\"PERIOD\", period).sort(\"PRICE\" + str(hour), descending = False)\n",
    "    width = sorted_joined_table.column(\"Capacity_MW\")\n",
    "    height = sorted_joined_table.column('PRICE' + str(hour))\n",
    "    x_vals = find_x_pos(width)\n",
    "    energy_colors_dict = {}\n",
    "    count = 0\n",
    "    colors = ['#EC5F67', '#F29056', '#F9C863', '#99C794', '#5FB3B3', '#6699CC', '#C594C5']\n",
    "    for i in set(sorted_joined_table['Group']):\n",
    "        energy_colors_dict[i] = colors[count]\n",
    "        count += 1\n",
    "    colors_mapped = list(pd.Series(sorted_joined_table['Group']).map(energy_colors_dict))\n",
    "    sorted_joined_table = sorted_joined_table.with_column('Color', colors_mapped)\n",
    "    group_colors = sorted_joined_table.group(\"Group\", lambda x: x).select(\"Group\", \"Color\")\n",
    "    group_colors[\"Color\"] = group_colors.apply(lambda x: x[0], \"Color\")\n",
    "    price = price_calc(sorted_joined_table, demand, hour, period)\n",
    "    # Make the plot\n",
    "    plt.figure(figsize=(9,6))\n",
    "    plt.bar(x_vals, height, width=width, color=sorted_joined_table['Color'], edgecolor = \"black\")\n",
    "    patches = []\n",
    "    for row in group_colors.rows:\n",
    "        patches += [mpatches.Patch(color=row.item(\"Color\"), label=row.item(\"Group\"))]\n",
    "    plt.legend(handles=patches, bbox_to_anchor=(1.1,1))\n",
    "    plt.title('All Energy Sources')\n",
    "    plt.xlabel('Capacity_MW')\n",
    "    plt.ylabel('Price')\n",
    "    price_line_plot(price)\n",
    "    demand_plot(demand)"
   ]
  },
  {
   "cell_type": "markdown",
   "metadata": {},
   "source": [
    "The next cell plots the market."
   ]
  },
  {
   "cell_type": "code",
   "execution_count": null,
   "metadata": {
    "scrolled": false
   },
   "outputs": [],
   "source": [
    "market_plot(input_table = joined_table_all, \n",
    "            demand = 10000, \n",
    "            hour = 1, \n",
    "            period = period)"
   ]
  },
  {
   "cell_type": "markdown",
   "metadata": {},
   "source": [
    "Now, suppose that we implement a carbon price.  The next cell contains a function which will update our bids given a carbon price."
   ]
  },
  {
   "cell_type": "code",
   "execution_count": null,
   "metadata": {},
   "outputs": [],
   "source": [
    "def market_plot_cp(input_table, demand, hour, period, carbon_price):\n",
    "    joined_table = input_table.copy()\n",
    "    joined_table[\"Total_Var_Cost_USDperMWH\"] += carbon_price * joined_table[\"Carbon_tonsperMWH\"]\n",
    "    joined_table[\"PRICE\" + str(hour)] += carbon_price * joined_table[\"Carbon_tonsperMWH\"]\n",
    "    market_plot(joined_table, demand, hour, period)"
   ]
  },
  {
   "cell_type": "markdown",
   "metadata": {},
   "source": [
    "Let's re-plot the market, now with a carbon price."
   ]
  },
  {
   "cell_type": "code",
   "execution_count": null,
   "metadata": {},
   "outputs": [],
   "source": [
    "market_plot_cp(input_table = joined_table_all, \n",
    "               demand = 10000, \n",
    "               hour = 1, \n",
    "               period = period, \n",
    "               carbon_price = 15)"
   ]
  },
  {
   "cell_type": "markdown",
   "metadata": {},
   "source": [
    "Let's zoom in on individual portolios to see which of their plants are operating.  A plant which bids a price below the market-clearing price will operate.  First, let's define a plotting function."
   ]
  },
  {
   "cell_type": "code",
   "execution_count": null,
   "metadata": {},
   "outputs": [],
   "source": [
    "def portfolio_plot(input_table, demand, hour, period, portfolio):\n",
    "    joined_table = input_table.copy()\n",
    "    sorted_joined_table = joined_table.where(\"PERIOD\", period).sort(\"PRICE\" + str(hour), descending = False)\n",
    "    your_source = sorted_joined_table.where(\"Group\", portfolio)\n",
    "    width_yours = your_source.column(\"Capacity_MW\")\n",
    "    height_yours = your_source.column('PRICE' + str(hour))\n",
    "    height_yours_marginal_cost = your_source.column(\"Total_Var_Cost_USDperMWH\")\n",
    "    new_x_yours = find_x_pos(width_yours)\n",
    "    label_yours = your_source.column(\"PLANT\")\n",
    "    energy_colors_dict = {}\n",
    "    count = 0\n",
    "    colors = ['#EC5F67', '#F29056', '#F9C863', '#99C794', '#5FB3B3', '#6699CC', '#C594C5']\n",
    "    for i in set(sorted_joined_table['Group']):\n",
    "        energy_colors_dict[i] = colors[count]\n",
    "        count += 1\n",
    "    colors_mapped = list(pd.Series(sorted_joined_table['Group']).map(energy_colors_dict))\n",
    "    sorted_joined_table = sorted_joined_table.with_column('Color', colors_mapped)\n",
    "    group_colors = sorted_joined_table.group(\"Group\", lambda x: x).select(\"Group\", \"Color\")\n",
    "    group_colors[\"Color\"] = group_colors.apply(lambda x: x[0], \"Color\")\n",
    "    price = price_calc(sorted_joined_table, demand, hour, period)\n",
    "    # Make the plot\n",
    "    plt.figure(figsize=(9,6))\n",
    "    plt.bar(new_x_yours, height_yours, width=width_yours, \n",
    "            color = energy_colors_dict[portfolio], edgecolor = \"black\")\n",
    "    plt.title(portfolio)\n",
    "    plt.xlabel('Capacity_MW')\n",
    "    plt.ylabel('Price')\n",
    "    for new_x_i, height_i, label_i in zip(new_x_yours, height_yours, label_yours):\n",
    "        plt.text(new_x_i, height_i, label_i, ha='center', va='bottom', fontsize=8)\n",
    "    price_line_plot(price)\n",
    "    plt.show()"
   ]
  },
  {
   "cell_type": "markdown",
   "metadata": {},
   "source": [
    "Below we call our plotting function, allowing for the portfolio to be defined through an interactive dropdown box.  Remember that we are back to looking at the market without setting a carbon price."
   ]
  },
  {
   "cell_type": "code",
   "execution_count": null,
   "metadata": {},
   "outputs": [],
   "source": [
    "interact(lambda portfolio: \n",
    "         portfolio_plot(input_table = joined_table_all, \n",
    "                        demand = 10000, \n",
    "                        hour = 1, \n",
    "                        period = period,\n",
    "                        portfolio = portfolio), \n",
    "         portfolio=Dropdown(options=np.unique(joined_table_all[\"Group\"])));"
   ]
  },
  {
   "cell_type": "markdown",
   "metadata": {},
   "source": [
    "The following function will allow us to zoom in further on only the operating plants.  Capacity is automatically reduced to supplied capacity for marginal plants."
   ]
  },
  {
   "cell_type": "code",
   "execution_count": null,
   "metadata": {},
   "outputs": [],
   "source": [
    "def marginal_cost_plot(input_table, demand, hour, period, portfolio):\n",
    "    joined_table = input_table.copy()\n",
    "    sorted_joined_table = joined_table.where(\"PERIOD\", period).sort(\"PRICE\" + str(hour), descending = False)\n",
    "    your_source = sorted_joined_table.where(\"Group\", portfolio)\n",
    "    price = price_calc(sorted_joined_table, demand, hour, period)\n",
    "    \n",
    "    nonmarg_capacity = sum(sorted_joined_table.where('PRICE' + str(hour), are.below(price))[\"Capacity_MW\"])\n",
    "    marg_capacity = sum(sorted_joined_table.where('PRICE' + str(hour), are.equal_to(price))[\"Capacity_MW\"])\n",
    "    marg_demand = demand - nonmarg_capacity\n",
    "    marg_proportion = marg_demand / marg_capacity\n",
    "\n",
    "    height_yours = your_source.column('PRICE' + str(hour))\n",
    "    marginal_plants = np.where(height_yours == price)[0]\n",
    "    width_yours = your_source.column(\"Capacity_MW\")\n",
    "    width_yours[marginal_plants] = width_yours[marginal_plants] * marg_proportion\n",
    "    new_x_yours = find_x_pos(width_yours)\n",
    "\n",
    "    height_yours_marginal_cost = your_source.column(\"Total_Var_Cost_USDperMWH\")\n",
    "    label_yours = your_source.column(\"PLANT\")\n",
    "    energy_colors_dict = {}\n",
    "    count = 0\n",
    "    colors = ['#EC5F67', '#F29056', '#F9C863', '#99C794', '#5FB3B3', '#6699CC', '#C594C5']\n",
    "    for i in set(sorted_joined_table['Group']):\n",
    "        energy_colors_dict[i] = colors[count]\n",
    "        count += 1\n",
    "    colors_mapped = list(pd.Series(sorted_joined_table['Group']).map(energy_colors_dict))\n",
    "    sorted_joined_table = sorted_joined_table.with_column('Color', colors_mapped)\n",
    "    group_colors = sorted_joined_table.group(\"Group\", lambda x: x).select(\"Group\", \"Color\")\n",
    "    group_colors[\"Color\"] = group_colors.apply(lambda x: x[0], \"Color\")\n",
    "    plt.figure(figsize=(9,6))\n",
    "    num_x = len(your_source.where('PRICE' + str(hour), are.below_or_equal_to(price))[1])\n",
    "    plt.bar(new_x_yours[:num_x], height_yours_marginal_cost[:num_x], width=width_yours[:num_x], \n",
    "            color = energy_colors_dict[portfolio],\n",
    "            edgecolor = \"black\")\n",
    "    plt.title(portfolio)\n",
    "    plt.xlabel('Capacity_MW')\n",
    "    plt.ylabel('Marginal Cost')\n",
    "    for new_x_i, height_i, label_i in zip(new_x_yours[:num_x], height_yours_marginal_cost[:num_x], label_yours[:num_x]):\n",
    "        plt.text(new_x_i, height_i, label_i, ha='center', va='bottom', fontsize=8)\n",
    "    price_line_plot(price)\n",
    "    plt.show()"
   ]
  },
  {
   "cell_type": "markdown",
   "metadata": {},
   "source": [
    "In the following plot, the empty area in between the price line and the tops of the bars (the marginal cost) is the profit."
   ]
  },
  {
   "cell_type": "code",
   "execution_count": null,
   "metadata": {},
   "outputs": [],
   "source": [
    "interact(lambda portfolio: \n",
    "         marginal_cost_plot(input_table = joined_table_all, \n",
    "                        demand = 10000, \n",
    "                        hour = 1, \n",
    "                        period = period,\n",
    "                        portfolio = portfolio), \n",
    "         portfolio=Dropdown(options=np.unique(joined_table_all[\"Group\"])));"
   ]
  },
  {
   "cell_type": "markdown",
   "metadata": {},
   "source": [
    "Now we can finally calculate profit. The function below will find it.  Ignore the profit_pab() function for now (it will be explained more in Round 1)."
   ]
  },
  {
   "cell_type": "code",
   "execution_count": null,
   "metadata": {},
   "outputs": [],
   "source": [
    "def profit(input_table, demand, hour, period, portfolio):\n",
    "    joined_table = input_table.copy()\n",
    "    sorted_joined_table = joined_table.where(\"PERIOD\", period).sort(\"PRICE\" + str(hour), descending = False)\n",
    "    price = price_calc(sorted_joined_table, demand, hour, period)\n",
    "    \n",
    "    nonmarg_capacity = sum(sorted_joined_table.where('PRICE' + str(hour), are.below(price))[\"Capacity_MW\"])\n",
    "    marg_capacity = sum(sorted_joined_table.where('PRICE' + str(hour), are.equal_to(price))[\"Capacity_MW\"])\n",
    "    marg_demand = demand - nonmarg_capacity\n",
    "    marg_proportion = marg_demand / marg_capacity\n",
    "    \n",
    "    sorted_table = sorted_joined_table.where(\"Group\", portfolio)\n",
    "    capacity_subset = sum(sorted_table.where('PRICE' + str(hour), are.below(price))[\"Capacity_MW\"])\n",
    "    capacity_subset += sum(sorted_table.where('PRICE' + str(hour), are.equal_to(price))[\"Capacity_MW\"] * marg_proportion)\n",
    "    revenue = capacity_subset * price\n",
    "    cost = 0\n",
    "    for i in range(len(sorted_table.where('PRICE' + str(hour), are.below(price))[\"Total_Var_Cost_USDperMWH\"])):\n",
    "        cost += sorted_table.where('PRICE' + str(hour), are.below(price))[\"Total_Var_Cost_USDperMWH\"][i]\\\n",
    "        * sorted_table.where('PRICE' + str(hour), are.below(price))[\"Capacity_MW\"][i]\n",
    "    for i in range(len(sorted_table.where('PRICE' + str(hour), are.equal_to(price))[\"Total_Var_Cost_USDperMWH\"])):\n",
    "        cost += sorted_table.where('PRICE' + str(hour), are.equal_to(price))[\"Total_Var_Cost_USDperMWH\"][i]\\\n",
    "        * (sorted_table.where('PRICE' + str(hour), are.equal_to(price))[\"Capacity_MW\"][i] * marg_proportion)\n",
    "    return revenue - cost\n",
    "\n",
    "def profit_pab(input_table, demand, hour, period, portfolio):\n",
    "    joined_table = input_table.copy()\n",
    "    sorted_joined_table = joined_table.where(\"PERIOD\", period).sort(\"PRICE\" + str(hour), descending = False)\n",
    "    price = price_calc(sorted_joined_table, demand, hour, period)\n",
    "    \n",
    "    nonmarg_capacity = sum(sorted_joined_table.where('PRICE' + str(hour), are.below(price))[\"Capacity_MW\"])\n",
    "    marg_capacity = sum(sorted_joined_table.where('PRICE' + str(hour), are.equal_to(price))[\"Capacity_MW\"])\n",
    "    marg_demand = demand - nonmarg_capacity\n",
    "    marg_proportion = marg_demand / marg_capacity\n",
    "    \n",
    "    sorted_table = sorted_joined_table.where(\"Group\", portfolio)\n",
    "    revenue = 0\n",
    "    for i in range(len(sorted_table.where('PRICE' + str(hour), are.below(price))['PRICE' + str(hour)])):\n",
    "        revenue += sorted_table.where('PRICE' + str(hour), are.below(price))['PRICE' + str(hour)][i]\\\n",
    "        * sorted_table.where('PRICE' + str(hour), are.below(price))[\"Capacity_MW\"][i]\n",
    "    for i in range(len(sorted_table.where('PRICE' + str(hour), are.equal_to(price))['PRICE' + str(hour)])):\n",
    "        revenue += sorted_table.where('PRICE' + str(hour), are.equal_to(price))['PRICE' + str(hour)][i]\\\n",
    "        * (sorted_table.where('PRICE' + str(hour), are.equal_to(price))[\"Capacity_MW\"][i] * marg_proportion)\n",
    "    cost = 0\n",
    "    for i in range(len(sorted_table.where('PRICE' + str(hour), are.below(price))[\"Total_Var_Cost_USDperMWH\"])):\n",
    "        cost += sorted_table.where('PRICE' + str(hour), are.below(price))[\"Total_Var_Cost_USDperMWH\"][i]\\\n",
    "        * sorted_table.where('PRICE' + str(hour), are.below(price))[\"Capacity_MW\"][i]\n",
    "    for i in range(len(sorted_table.where('PRICE' + str(hour), are.equal_to(price))[\"Total_Var_Cost_USDperMWH\"])):\n",
    "        cost += sorted_table.where('PRICE' + str(hour), are.equal_to(price))[\"Total_Var_Cost_USDperMWH\"][i]\\\n",
    "        * (sorted_table.where('PRICE' + str(hour), are.equal_to(price))[\"Capacity_MW\"][i] * marg_proportion)\n",
    "    return revenue - cost"
   ]
  },
  {
   "cell_type": "code",
   "execution_count": null,
   "metadata": {},
   "outputs": [],
   "source": [
    "interact(lambda portfolio:\n",
    "         print(\"Profit: $\" + str(round(\n",
    "             profit(input_table = joined_table_all, \n",
    "                    demand = 10000, \n",
    "                    hour = 1, \n",
    "                    period = period,\n",
    "                    portfolio = portfolio),\n",
    "         2))), \n",
    "         portfolio=Dropdown(options=np.unique(joined_table_all[\"Group\"])));"
   ]
  },
  {
   "cell_type": "markdown",
   "metadata": {},
   "source": [
    "We can now calculate the amount of emissions in the current hour."
   ]
  },
  {
   "cell_type": "code",
   "execution_count": null,
   "metadata": {},
   "outputs": [],
   "source": [
    "def emissions(input_table, demand, hour, period, portfolio):\n",
    "    joined_table = input_table.copy()\n",
    "    sorted_joined_table = joined_table.where(\"PERIOD\", period).sort(\"PRICE\" + str(hour), descending = False)\n",
    "    price = price_calc(sorted_joined_table, demand, hour, period)\n",
    "    \n",
    "    nonmarg_capacity = sum(sorted_joined_table.where('PRICE' + str(hour), are.below(price))[\"Capacity_MW\"])\n",
    "    marg_capacity = sum(sorted_joined_table.where('PRICE' + str(hour), are.equal_to(price))[\"Capacity_MW\"])\n",
    "    marg_demand = demand - nonmarg_capacity\n",
    "    marg_proportion = marg_demand / marg_capacity\n",
    "    \n",
    "    sorted_table = sorted_joined_table.where(\"Group\", portfolio)\n",
    "    emissions = 0\n",
    "    for i in range(len(sorted_table.where('PRICE' + str(hour), are.below(price))[\"Total_Var_Cost_USDperMWH\"])):\n",
    "        emissions += sorted_table.where('PRICE' + str(hour), are.below(price))[\"Carbon_tonsperMWH\"][i]\\\n",
    "        * sorted_table.where('PRICE' + str(hour), are.below(price))[\"Capacity_MW\"][i]\n",
    "    for i in range(len(sorted_table.where('PRICE' + str(hour), are.equal_to(price))[\"Total_Var_Cost_USDperMWH\"])):\n",
    "        emissions += sorted_table.where('PRICE' + str(hour), are.equal_to(price))[\"Carbon_tonsperMWH\"][i]\\\n",
    "        * (sorted_table.where('PRICE' + str(hour), are.equal_to(price))[\"Capacity_MW\"][i] * marg_proportion)\n",
    "    return emissions"
   ]
  },
  {
   "cell_type": "code",
   "execution_count": null,
   "metadata": {},
   "outputs": [],
   "source": [
    "interact(lambda portfolio:\n",
    "         print(\"Emissions: \" + str(round(\n",
    "             emissions(input_table = joined_table_all, \n",
    "                    demand = 10000, \n",
    "                    hour = 1, \n",
    "                    period = period,\n",
    "                    portfolio = portfolio),\n",
    "             2)) + \" Tons CO2\"), \n",
    "         portfolio=Dropdown(options=np.unique(joined_table_all[\"Group\"])));"
   ]
  },
  {
   "cell_type": "markdown",
   "metadata": {},
   "source": [
    "For the portfolio auction, it will be good to understand the value of a given portfolio.  Let's design a function to estimate a portfolio's net present value, given demand forecasts and assumptions about perfect competition. "
   ]
  },
  {
   "cell_type": "code",
   "execution_count": null,
   "metadata": {},
   "outputs": [],
   "source": [
    "demand_table.where(\"round\", 0).where(\"hour\", 1)[\"load\"].item()"
   ]
  },
  {
   "cell_type": "code",
   "execution_count": null,
   "metadata": {},
   "outputs": [],
   "source": [
    "def expected_profit(input_table, portfolio):\n",
    "    joined_table = input_table.copy()\n",
    "    \n",
    "    portfolio_profit = 0\n",
    "    for period_i in range(1, 7):\n",
    "        portfolio_table_period = joined_table.where(\"PERIOD\", period).where(\"Group\", portfolio)\n",
    "        portfolio_profit_period = -sum(portfolio_table_period[\"FixedCst_OandM_perDay\"])\n",
    "        \n",
    "        for hour_i in range(1, 5):\n",
    "            demand_i = demand_table.where(\"round\", period_i).where(\"hour\", hour_i)[\"load\"].item()\n",
    "            portfolio_profit_period += profit(joined_table, demand_i, hour_i, period_i, portfolio)\n",
    "                \n",
    "        portfolio_profit += portfolio_profit_period  / 1.05**(period_i - 1)\n",
    "    return portfolio_profit"
   ]
  },
  {
   "cell_type": "code",
   "execution_count": null,
   "metadata": {},
   "outputs": [],
   "source": [
    "interact(lambda portfolio:\n",
    "         print(\"Expected Profit: $\" + str(round(\n",
    "             expected_profit(input_table = joined_table_all, \n",
    "                    portfolio = portfolio),\n",
    "             2))), \n",
    "         portfolio=Dropdown(options=np.unique(joined_table_all[\"Group\"])));"
   ]
  },
  {
   "cell_type": "markdown",
   "metadata": {},
   "source": [
    "Thanks for help from: Alec Kan, Alma Pineda, Aarish Irfan, Elaine Chien, Octavian Sima, and Eric Van Dusen."
   ]
  }
 ],
 "metadata": {
  "kernelspec": {
   "display_name": "Python 3",
   "language": "python",
   "name": "python3"
  },
  "language_info": {
   "codemirror_mode": {
    "name": "ipython",
    "version": 3
   },
   "file_extension": ".py",
   "mimetype": "text/x-python",
   "name": "python",
   "nbconvert_exporter": "python",
   "pygments_lexer": "ipython3",
   "version": "3.6.9"
  }
 },
 "nbformat": 4,
 "nbformat_minor": 2
}
